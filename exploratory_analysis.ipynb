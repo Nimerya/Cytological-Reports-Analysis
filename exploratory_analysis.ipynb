{
 "cells": [
  {
   "cell_type": "code",
   "execution_count": 1,
   "metadata": {},
   "outputs": [],
   "source": [
    "import pandas as pd\n",
    "import numpy as np\n",
    "import matplotlib.pyplot as plt\n",
    "import re\n",
    "import scipy.stats as st\n",
    "import statsmodels.api as sm\n",
    "from statsmodels.formula.api import ols\n",
    "\n",
    "%matplotlib inline"
   ]
  },
  {
   "cell_type": "code",
   "execution_count": 2,
   "metadata": {},
   "outputs": [],
   "source": [
    "def frange(start, stop, step):\n",
    "    i = start\n",
    "    while i < stop:\n",
    "        step += step/2\n",
    "        yield i\n",
    "        i += step\n",
    "\n",
    "explode = tuple((i for i in frange(0, 20, 0.01)))"
   ]
  },
  {
   "cell_type": "code",
   "execution_count": 3,
   "metadata": {},
   "outputs": [
    {
     "data": {
      "text/html": [
       "<div>\n",
       "<style scoped>\n",
       "    .dataframe tbody tr th:only-of-type {\n",
       "        vertical-align: middle;\n",
       "    }\n",
       "\n",
       "    .dataframe tbody tr th {\n",
       "        vertical-align: top;\n",
       "    }\n",
       "\n",
       "    .dataframe thead th {\n",
       "        text-align: right;\n",
       "    }\n",
       "</style>\n",
       "<table border=\"1\" class=\"dataframe\">\n",
       "  <thead>\n",
       "    <tr style=\"text-align: right;\">\n",
       "      <th></th>\n",
       "      <th>ETA_PRELIEVO</th>\n",
       "      <th>DATA_PRELIEVO</th>\n",
       "      <th>DATA_ULTIMA_MESTRUAZIONE</th>\n",
       "      <th>DATA_PAP_PRECEDENTE</th>\n",
       "      <th>FORNICE</th>\n",
       "      <th>PORTIO</th>\n",
       "      <th>CAN_CERV</th>\n",
       "      <th>CAV_UT</th>\n",
       "      <th>PERDITE_ER</th>\n",
       "      <th>LEUCORREA</th>\n",
       "      <th>...</th>\n",
       "      <th>CITO_PREC</th>\n",
       "      <th>VIRALE_PREC</th>\n",
       "      <th>BATT_PREC</th>\n",
       "      <th>CONTROLLO</th>\n",
       "      <th>CTRL_ISTOLOGICO</th>\n",
       "      <th>VALIDITA_CAMPIONE</th>\n",
       "      <th>CAUSA_CAMPIONE_NON_VALIDO</th>\n",
       "      <th>BATT</th>\n",
       "      <th>CITO</th>\n",
       "      <th>VIRALE</th>\n",
       "    </tr>\n",
       "  </thead>\n",
       "  <tbody>\n",
       "    <tr>\n",
       "      <th>0</th>\n",
       "      <td>54</td>\n",
       "      <td>2018-04-01</td>\n",
       "      <td>NaT</td>\n",
       "      <td>NaT</td>\n",
       "      <td>False</td>\n",
       "      <td>True</td>\n",
       "      <td>True</td>\n",
       "      <td>False</td>\n",
       "      <td>False</td>\n",
       "      <td>False</td>\n",
       "      <td>...</td>\n",
       "      <td>NaN</td>\n",
       "      <td>NaN</td>\n",
       "      <td>NaN</td>\n",
       "      <td>NaN</td>\n",
       "      <td>NaN</td>\n",
       "      <td>ADEGUATO</td>\n",
       "      <td>NaN</td>\n",
       "      <td>NaN</td>\n",
       "      <td>AGC-NOS</td>\n",
       "      <td>NaN</td>\n",
       "    </tr>\n",
       "    <tr>\n",
       "      <th>1</th>\n",
       "      <td>49</td>\n",
       "      <td>2015-11-01</td>\n",
       "      <td>2015-10-01</td>\n",
       "      <td>NaT</td>\n",
       "      <td>False</td>\n",
       "      <td>True</td>\n",
       "      <td>True</td>\n",
       "      <td>False</td>\n",
       "      <td>False</td>\n",
       "      <td>False</td>\n",
       "      <td>...</td>\n",
       "      <td>NaN</td>\n",
       "      <td>NaN</td>\n",
       "      <td>NaN</td>\n",
       "      <td>NaN</td>\n",
       "      <td>NaN</td>\n",
       "      <td>ADEGUATO</td>\n",
       "      <td>NaN</td>\n",
       "      <td>CANDIDA</td>\n",
       "      <td>NEGATIVO</td>\n",
       "      <td>NaN</td>\n",
       "    </tr>\n",
       "    <tr>\n",
       "      <th>2</th>\n",
       "      <td>45</td>\n",
       "      <td>2015-07-01</td>\n",
       "      <td>2015-06-01</td>\n",
       "      <td>NaT</td>\n",
       "      <td>False</td>\n",
       "      <td>True</td>\n",
       "      <td>True</td>\n",
       "      <td>False</td>\n",
       "      <td>False</td>\n",
       "      <td>False</td>\n",
       "      <td>...</td>\n",
       "      <td>NaN</td>\n",
       "      <td>NaN</td>\n",
       "      <td>NaN</td>\n",
       "      <td>NaN</td>\n",
       "      <td>NaN</td>\n",
       "      <td>ADEGUATO</td>\n",
       "      <td>NaN</td>\n",
       "      <td>NaN</td>\n",
       "      <td>ASCUS</td>\n",
       "      <td>NaN</td>\n",
       "    </tr>\n",
       "    <tr>\n",
       "      <th>3</th>\n",
       "      <td>66</td>\n",
       "      <td>2016-04-01</td>\n",
       "      <td>NaT</td>\n",
       "      <td>2012-01-01</td>\n",
       "      <td>False</td>\n",
       "      <td>True</td>\n",
       "      <td>True</td>\n",
       "      <td>False</td>\n",
       "      <td>False</td>\n",
       "      <td>False</td>\n",
       "      <td>...</td>\n",
       "      <td>NEGATIVO</td>\n",
       "      <td>NaN</td>\n",
       "      <td>NaN</td>\n",
       "      <td>NaN</td>\n",
       "      <td>NaN</td>\n",
       "      <td>ADEGUATO</td>\n",
       "      <td>NaN</td>\n",
       "      <td>NaN</td>\n",
       "      <td>AGC-NOS</td>\n",
       "      <td>NaN</td>\n",
       "    </tr>\n",
       "    <tr>\n",
       "      <th>4</th>\n",
       "      <td>41</td>\n",
       "      <td>2016-03-01</td>\n",
       "      <td>2016-02-01</td>\n",
       "      <td>2013-01-01</td>\n",
       "      <td>False</td>\n",
       "      <td>True</td>\n",
       "      <td>True</td>\n",
       "      <td>False</td>\n",
       "      <td>False</td>\n",
       "      <td>False</td>\n",
       "      <td>...</td>\n",
       "      <td>NEGATIVO</td>\n",
       "      <td>NaN</td>\n",
       "      <td>NaN</td>\n",
       "      <td>12.0</td>\n",
       "      <td>NaN</td>\n",
       "      <td>ADEGUATO</td>\n",
       "      <td>NaN</td>\n",
       "      <td>DODERLEIN</td>\n",
       "      <td>NEGATIVO</td>\n",
       "      <td>NaN</td>\n",
       "    </tr>\n",
       "    <tr>\n",
       "      <th>5</th>\n",
       "      <td>24</td>\n",
       "      <td>2016-05-01</td>\n",
       "      <td>2016-04-01</td>\n",
       "      <td>NaT</td>\n",
       "      <td>False</td>\n",
       "      <td>True</td>\n",
       "      <td>True</td>\n",
       "      <td>False</td>\n",
       "      <td>False</td>\n",
       "      <td>False</td>\n",
       "      <td>...</td>\n",
       "      <td>NaN</td>\n",
       "      <td>NaN</td>\n",
       "      <td>NaN</td>\n",
       "      <td>12.0</td>\n",
       "      <td>NaN</td>\n",
       "      <td>ADEGUATO</td>\n",
       "      <td>NaN</td>\n",
       "      <td>COCCHI</td>\n",
       "      <td>NEGATIVO</td>\n",
       "      <td>NaN</td>\n",
       "    </tr>\n",
       "    <tr>\n",
       "      <th>6</th>\n",
       "      <td>29</td>\n",
       "      <td>2016-06-01</td>\n",
       "      <td>2016-05-01</td>\n",
       "      <td>NaT</td>\n",
       "      <td>False</td>\n",
       "      <td>True</td>\n",
       "      <td>True</td>\n",
       "      <td>False</td>\n",
       "      <td>False</td>\n",
       "      <td>True</td>\n",
       "      <td>...</td>\n",
       "      <td>NaN</td>\n",
       "      <td>NaN</td>\n",
       "      <td>NaN</td>\n",
       "      <td>12.0</td>\n",
       "      <td>NaN</td>\n",
       "      <td>ADEGUATO</td>\n",
       "      <td>NaN</td>\n",
       "      <td>COCCHI</td>\n",
       "      <td>NEGATIVO</td>\n",
       "      <td>NaN</td>\n",
       "    </tr>\n",
       "    <tr>\n",
       "      <th>7</th>\n",
       "      <td>27</td>\n",
       "      <td>2016-04-01</td>\n",
       "      <td>2016-03-01</td>\n",
       "      <td>NaT</td>\n",
       "      <td>False</td>\n",
       "      <td>True</td>\n",
       "      <td>True</td>\n",
       "      <td>False</td>\n",
       "      <td>False</td>\n",
       "      <td>False</td>\n",
       "      <td>...</td>\n",
       "      <td>NaN</td>\n",
       "      <td>NaN</td>\n",
       "      <td>NaN</td>\n",
       "      <td>12.0</td>\n",
       "      <td>NaN</td>\n",
       "      <td>ADEGUATO</td>\n",
       "      <td>NaN</td>\n",
       "      <td>COCCHI</td>\n",
       "      <td>NEGATIVO</td>\n",
       "      <td>NaN</td>\n",
       "    </tr>\n",
       "    <tr>\n",
       "      <th>8</th>\n",
       "      <td>55</td>\n",
       "      <td>2016-06-01</td>\n",
       "      <td>NaT</td>\n",
       "      <td>2016-01-01</td>\n",
       "      <td>False</td>\n",
       "      <td>True</td>\n",
       "      <td>True</td>\n",
       "      <td>False</td>\n",
       "      <td>False</td>\n",
       "      <td>False</td>\n",
       "      <td>...</td>\n",
       "      <td>NEGATIVO</td>\n",
       "      <td>HPV</td>\n",
       "      <td>NaN</td>\n",
       "      <td>12.0</td>\n",
       "      <td>NaN</td>\n",
       "      <td>NaN</td>\n",
       "      <td>NaN</td>\n",
       "      <td>COCCHI</td>\n",
       "      <td>NEGATIVO</td>\n",
       "      <td>NaN</td>\n",
       "    </tr>\n",
       "    <tr>\n",
       "      <th>9</th>\n",
       "      <td>33</td>\n",
       "      <td>2015-03-01</td>\n",
       "      <td>2015-02-01</td>\n",
       "      <td>NaT</td>\n",
       "      <td>False</td>\n",
       "      <td>True</td>\n",
       "      <td>True</td>\n",
       "      <td>False</td>\n",
       "      <td>False</td>\n",
       "      <td>False</td>\n",
       "      <td>...</td>\n",
       "      <td>NaN</td>\n",
       "      <td>NaN</td>\n",
       "      <td>NaN</td>\n",
       "      <td>12.0</td>\n",
       "      <td>NaN</td>\n",
       "      <td>ADEGUATO</td>\n",
       "      <td>NaN</td>\n",
       "      <td>COCCHI</td>\n",
       "      <td>NEGATIVO</td>\n",
       "      <td>NaN</td>\n",
       "    </tr>\n",
       "    <tr>\n",
       "      <th>10</th>\n",
       "      <td>31</td>\n",
       "      <td>2015-12-01</td>\n",
       "      <td>2015-11-01</td>\n",
       "      <td>NaT</td>\n",
       "      <td>False</td>\n",
       "      <td>True</td>\n",
       "      <td>True</td>\n",
       "      <td>False</td>\n",
       "      <td>False</td>\n",
       "      <td>False</td>\n",
       "      <td>...</td>\n",
       "      <td>NaN</td>\n",
       "      <td>NaN</td>\n",
       "      <td>NaN</td>\n",
       "      <td>12.0</td>\n",
       "      <td>NaN</td>\n",
       "      <td>ADEGUATO</td>\n",
       "      <td>NaN</td>\n",
       "      <td>COCCHI</td>\n",
       "      <td>NEGATIVO</td>\n",
       "      <td>NaN</td>\n",
       "    </tr>\n",
       "    <tr>\n",
       "      <th>11</th>\n",
       "      <td>33</td>\n",
       "      <td>2014-08-01</td>\n",
       "      <td>2014-08-01</td>\n",
       "      <td>NaT</td>\n",
       "      <td>False</td>\n",
       "      <td>True</td>\n",
       "      <td>True</td>\n",
       "      <td>False</td>\n",
       "      <td>False</td>\n",
       "      <td>False</td>\n",
       "      <td>...</td>\n",
       "      <td>NaN</td>\n",
       "      <td>NaN</td>\n",
       "      <td>NaN</td>\n",
       "      <td>12.0</td>\n",
       "      <td>NaN</td>\n",
       "      <td>ADEGUATO</td>\n",
       "      <td>NaN</td>\n",
       "      <td>COCCHI</td>\n",
       "      <td>NEGATIVO</td>\n",
       "      <td>NaN</td>\n",
       "    </tr>\n",
       "    <tr>\n",
       "      <th>12</th>\n",
       "      <td>40</td>\n",
       "      <td>2015-08-01</td>\n",
       "      <td>2015-07-01</td>\n",
       "      <td>2014-01-01</td>\n",
       "      <td>False</td>\n",
       "      <td>True</td>\n",
       "      <td>True</td>\n",
       "      <td>False</td>\n",
       "      <td>False</td>\n",
       "      <td>False</td>\n",
       "      <td>...</td>\n",
       "      <td>NaN</td>\n",
       "      <td>NaN</td>\n",
       "      <td>NaN</td>\n",
       "      <td>12.0</td>\n",
       "      <td>NaN</td>\n",
       "      <td>ADEGUATO</td>\n",
       "      <td>NaN</td>\n",
       "      <td>COCCHI</td>\n",
       "      <td>NEGATIVO</td>\n",
       "      <td>NaN</td>\n",
       "    </tr>\n",
       "    <tr>\n",
       "      <th>13</th>\n",
       "      <td>42</td>\n",
       "      <td>2015-07-01</td>\n",
       "      <td>2015-06-01</td>\n",
       "      <td>NaT</td>\n",
       "      <td>False</td>\n",
       "      <td>True</td>\n",
       "      <td>True</td>\n",
       "      <td>False</td>\n",
       "      <td>False</td>\n",
       "      <td>False</td>\n",
       "      <td>...</td>\n",
       "      <td>NaN</td>\n",
       "      <td>NaN</td>\n",
       "      <td>NaN</td>\n",
       "      <td>12.0</td>\n",
       "      <td>NaN</td>\n",
       "      <td>ADEGUATO</td>\n",
       "      <td>NaN</td>\n",
       "      <td>COCCHI</td>\n",
       "      <td>NEGATIVO</td>\n",
       "      <td>NaN</td>\n",
       "    </tr>\n",
       "    <tr>\n",
       "      <th>14</th>\n",
       "      <td>47</td>\n",
       "      <td>2014-09-01</td>\n",
       "      <td>2014-07-01</td>\n",
       "      <td>NaT</td>\n",
       "      <td>False</td>\n",
       "      <td>True</td>\n",
       "      <td>True</td>\n",
       "      <td>False</td>\n",
       "      <td>False</td>\n",
       "      <td>False</td>\n",
       "      <td>...</td>\n",
       "      <td>NaN</td>\n",
       "      <td>NaN</td>\n",
       "      <td>NaN</td>\n",
       "      <td>12.0</td>\n",
       "      <td>NaN</td>\n",
       "      <td>ADEGUATO</td>\n",
       "      <td>NaN</td>\n",
       "      <td>COCCHI</td>\n",
       "      <td>NEGATIVO</td>\n",
       "      <td>NaN</td>\n",
       "    </tr>\n",
       "    <tr>\n",
       "      <th>15</th>\n",
       "      <td>23</td>\n",
       "      <td>2015-07-01</td>\n",
       "      <td>2015-05-01</td>\n",
       "      <td>2014-01-01</td>\n",
       "      <td>False</td>\n",
       "      <td>True</td>\n",
       "      <td>True</td>\n",
       "      <td>False</td>\n",
       "      <td>False</td>\n",
       "      <td>False</td>\n",
       "      <td>...</td>\n",
       "      <td>LSIL</td>\n",
       "      <td>NaN</td>\n",
       "      <td>NaN</td>\n",
       "      <td>12.0</td>\n",
       "      <td>NaN</td>\n",
       "      <td>ADEGUATO</td>\n",
       "      <td>NaN</td>\n",
       "      <td>COCCHI</td>\n",
       "      <td>NEGATIVO</td>\n",
       "      <td>NaN</td>\n",
       "    </tr>\n",
       "    <tr>\n",
       "      <th>16</th>\n",
       "      <td>35</td>\n",
       "      <td>2015-02-01</td>\n",
       "      <td>2015-02-01</td>\n",
       "      <td>NaT</td>\n",
       "      <td>False</td>\n",
       "      <td>True</td>\n",
       "      <td>True</td>\n",
       "      <td>False</td>\n",
       "      <td>False</td>\n",
       "      <td>False</td>\n",
       "      <td>...</td>\n",
       "      <td>NaN</td>\n",
       "      <td>NaN</td>\n",
       "      <td>NaN</td>\n",
       "      <td>12.0</td>\n",
       "      <td>NaN</td>\n",
       "      <td>ADEGUATO</td>\n",
       "      <td>NaN</td>\n",
       "      <td>COCCHI</td>\n",
       "      <td>NEGATIVO</td>\n",
       "      <td>NaN</td>\n",
       "    </tr>\n",
       "    <tr>\n",
       "      <th>17</th>\n",
       "      <td>33</td>\n",
       "      <td>2016-04-01</td>\n",
       "      <td>2016-03-01</td>\n",
       "      <td>NaT</td>\n",
       "      <td>False</td>\n",
       "      <td>True</td>\n",
       "      <td>True</td>\n",
       "      <td>False</td>\n",
       "      <td>False</td>\n",
       "      <td>False</td>\n",
       "      <td>...</td>\n",
       "      <td>NaN</td>\n",
       "      <td>NaN</td>\n",
       "      <td>NaN</td>\n",
       "      <td>12.0</td>\n",
       "      <td>NaN</td>\n",
       "      <td>ADEGUATO</td>\n",
       "      <td>NaN</td>\n",
       "      <td>COCCHI</td>\n",
       "      <td>NEGATIVO</td>\n",
       "      <td>NaN</td>\n",
       "    </tr>\n",
       "    <tr>\n",
       "      <th>18</th>\n",
       "      <td>44</td>\n",
       "      <td>2015-10-01</td>\n",
       "      <td>2015-10-01</td>\n",
       "      <td>2014-01-01</td>\n",
       "      <td>False</td>\n",
       "      <td>True</td>\n",
       "      <td>True</td>\n",
       "      <td>False</td>\n",
       "      <td>False</td>\n",
       "      <td>False</td>\n",
       "      <td>...</td>\n",
       "      <td>NEGATIVO</td>\n",
       "      <td>NaN</td>\n",
       "      <td>NaN</td>\n",
       "      <td>12.0</td>\n",
       "      <td>NaN</td>\n",
       "      <td>ADEGUATO</td>\n",
       "      <td>NaN</td>\n",
       "      <td>COCCHI</td>\n",
       "      <td>NEGATIVO</td>\n",
       "      <td>NaN</td>\n",
       "    </tr>\n",
       "    <tr>\n",
       "      <th>19</th>\n",
       "      <td>63</td>\n",
       "      <td>2015-07-01</td>\n",
       "      <td>NaT</td>\n",
       "      <td>2012-01-01</td>\n",
       "      <td>False</td>\n",
       "      <td>True</td>\n",
       "      <td>True</td>\n",
       "      <td>False</td>\n",
       "      <td>False</td>\n",
       "      <td>False</td>\n",
       "      <td>...</td>\n",
       "      <td>NEGATIVO</td>\n",
       "      <td>NaN</td>\n",
       "      <td>NaN</td>\n",
       "      <td>12.0</td>\n",
       "      <td>NaN</td>\n",
       "      <td>ADEGUATO</td>\n",
       "      <td>NaN</td>\n",
       "      <td>COCCHI</td>\n",
       "      <td>NEGATIVO</td>\n",
       "      <td>NaN</td>\n",
       "    </tr>\n",
       "    <tr>\n",
       "      <th>20</th>\n",
       "      <td>37</td>\n",
       "      <td>2014-07-01</td>\n",
       "      <td>2014-07-01</td>\n",
       "      <td>NaT</td>\n",
       "      <td>False</td>\n",
       "      <td>True</td>\n",
       "      <td>True</td>\n",
       "      <td>False</td>\n",
       "      <td>False</td>\n",
       "      <td>False</td>\n",
       "      <td>...</td>\n",
       "      <td>NaN</td>\n",
       "      <td>NaN</td>\n",
       "      <td>NaN</td>\n",
       "      <td>12.0</td>\n",
       "      <td>NaN</td>\n",
       "      <td>ADEGUATO</td>\n",
       "      <td>NaN</td>\n",
       "      <td>COCCHI</td>\n",
       "      <td>NEGATIVO</td>\n",
       "      <td>NaN</td>\n",
       "    </tr>\n",
       "    <tr>\n",
       "      <th>21</th>\n",
       "      <td>34</td>\n",
       "      <td>2015-09-01</td>\n",
       "      <td>2015-09-01</td>\n",
       "      <td>NaT</td>\n",
       "      <td>False</td>\n",
       "      <td>True</td>\n",
       "      <td>True</td>\n",
       "      <td>False</td>\n",
       "      <td>False</td>\n",
       "      <td>False</td>\n",
       "      <td>...</td>\n",
       "      <td>NaN</td>\n",
       "      <td>NaN</td>\n",
       "      <td>NaN</td>\n",
       "      <td>12.0</td>\n",
       "      <td>NaN</td>\n",
       "      <td>ADEGUATO</td>\n",
       "      <td>NaN</td>\n",
       "      <td>COCCHI</td>\n",
       "      <td>NEGATIVO</td>\n",
       "      <td>NaN</td>\n",
       "    </tr>\n",
       "    <tr>\n",
       "      <th>22</th>\n",
       "      <td>37</td>\n",
       "      <td>2016-03-01</td>\n",
       "      <td>2016-03-01</td>\n",
       "      <td>2012-01-01</td>\n",
       "      <td>False</td>\n",
       "      <td>True</td>\n",
       "      <td>True</td>\n",
       "      <td>False</td>\n",
       "      <td>False</td>\n",
       "      <td>False</td>\n",
       "      <td>...</td>\n",
       "      <td>NaN</td>\n",
       "      <td>NaN</td>\n",
       "      <td>NaN</td>\n",
       "      <td>12.0</td>\n",
       "      <td>NaN</td>\n",
       "      <td>ADEGUATO</td>\n",
       "      <td>NaN</td>\n",
       "      <td>COCCHI</td>\n",
       "      <td>NEGATIVO</td>\n",
       "      <td>NaN</td>\n",
       "    </tr>\n",
       "    <tr>\n",
       "      <th>23</th>\n",
       "      <td>32</td>\n",
       "      <td>2014-06-01</td>\n",
       "      <td>2014-05-01</td>\n",
       "      <td>NaT</td>\n",
       "      <td>False</td>\n",
       "      <td>True</td>\n",
       "      <td>True</td>\n",
       "      <td>False</td>\n",
       "      <td>False</td>\n",
       "      <td>False</td>\n",
       "      <td>...</td>\n",
       "      <td>NaN</td>\n",
       "      <td>NaN</td>\n",
       "      <td>NaN</td>\n",
       "      <td>12.0</td>\n",
       "      <td>NaN</td>\n",
       "      <td>ADEGUATO</td>\n",
       "      <td>NaN</td>\n",
       "      <td>COCCHI</td>\n",
       "      <td>NEGATIVO</td>\n",
       "      <td>NaN</td>\n",
       "    </tr>\n",
       "    <tr>\n",
       "      <th>24</th>\n",
       "      <td>55</td>\n",
       "      <td>2014-06-01</td>\n",
       "      <td>2012-12-01</td>\n",
       "      <td>NaT</td>\n",
       "      <td>False</td>\n",
       "      <td>True</td>\n",
       "      <td>True</td>\n",
       "      <td>False</td>\n",
       "      <td>False</td>\n",
       "      <td>False</td>\n",
       "      <td>...</td>\n",
       "      <td>NaN</td>\n",
       "      <td>NaN</td>\n",
       "      <td>NaN</td>\n",
       "      <td>12.0</td>\n",
       "      <td>NaN</td>\n",
       "      <td>ADEGUATO</td>\n",
       "      <td>NaN</td>\n",
       "      <td>COCCHI</td>\n",
       "      <td>NEGATIVO</td>\n",
       "      <td>NaN</td>\n",
       "    </tr>\n",
       "    <tr>\n",
       "      <th>25</th>\n",
       "      <td>77</td>\n",
       "      <td>2016-06-01</td>\n",
       "      <td>NaT</td>\n",
       "      <td>NaT</td>\n",
       "      <td>False</td>\n",
       "      <td>True</td>\n",
       "      <td>True</td>\n",
       "      <td>False</td>\n",
       "      <td>False</td>\n",
       "      <td>False</td>\n",
       "      <td>...</td>\n",
       "      <td>NaN</td>\n",
       "      <td>NaN</td>\n",
       "      <td>NaN</td>\n",
       "      <td>12.0</td>\n",
       "      <td>NaN</td>\n",
       "      <td>ADEGUATO</td>\n",
       "      <td>NaN</td>\n",
       "      <td>COCCHI</td>\n",
       "      <td>NEGATIVO</td>\n",
       "      <td>NaN</td>\n",
       "    </tr>\n",
       "    <tr>\n",
       "      <th>26</th>\n",
       "      <td>50</td>\n",
       "      <td>2016-02-01</td>\n",
       "      <td>2016-02-01</td>\n",
       "      <td>NaT</td>\n",
       "      <td>False</td>\n",
       "      <td>True</td>\n",
       "      <td>True</td>\n",
       "      <td>False</td>\n",
       "      <td>False</td>\n",
       "      <td>False</td>\n",
       "      <td>...</td>\n",
       "      <td>NaN</td>\n",
       "      <td>NaN</td>\n",
       "      <td>NaN</td>\n",
       "      <td>12.0</td>\n",
       "      <td>NaN</td>\n",
       "      <td>ADEGUATO</td>\n",
       "      <td>NaN</td>\n",
       "      <td>COCCHI</td>\n",
       "      <td>NEGATIVO</td>\n",
       "      <td>NaN</td>\n",
       "    </tr>\n",
       "    <tr>\n",
       "      <th>27</th>\n",
       "      <td>24</td>\n",
       "      <td>2016-02-01</td>\n",
       "      <td>NaT</td>\n",
       "      <td>NaT</td>\n",
       "      <td>False</td>\n",
       "      <td>True</td>\n",
       "      <td>True</td>\n",
       "      <td>False</td>\n",
       "      <td>False</td>\n",
       "      <td>False</td>\n",
       "      <td>...</td>\n",
       "      <td>NaN</td>\n",
       "      <td>NaN</td>\n",
       "      <td>NaN</td>\n",
       "      <td>12.0</td>\n",
       "      <td>NaN</td>\n",
       "      <td>ADEGUATO</td>\n",
       "      <td>NaN</td>\n",
       "      <td>COCCHI</td>\n",
       "      <td>NEGATIVO</td>\n",
       "      <td>NaN</td>\n",
       "    </tr>\n",
       "    <tr>\n",
       "      <th>28</th>\n",
       "      <td>35</td>\n",
       "      <td>2016-08-01</td>\n",
       "      <td>2016-07-01</td>\n",
       "      <td>NaT</td>\n",
       "      <td>False</td>\n",
       "      <td>True</td>\n",
       "      <td>True</td>\n",
       "      <td>False</td>\n",
       "      <td>False</td>\n",
       "      <td>False</td>\n",
       "      <td>...</td>\n",
       "      <td>NaN</td>\n",
       "      <td>NaN</td>\n",
       "      <td>NaN</td>\n",
       "      <td>12.0</td>\n",
       "      <td>NaN</td>\n",
       "      <td>ADEGUATO</td>\n",
       "      <td>NaN</td>\n",
       "      <td>DODERLEIN</td>\n",
       "      <td>NEGATIVO</td>\n",
       "      <td>NaN</td>\n",
       "    </tr>\n",
       "    <tr>\n",
       "      <th>29</th>\n",
       "      <td>48</td>\n",
       "      <td>2013-06-01</td>\n",
       "      <td>2013-05-01</td>\n",
       "      <td>2011-01-01</td>\n",
       "      <td>False</td>\n",
       "      <td>True</td>\n",
       "      <td>True</td>\n",
       "      <td>False</td>\n",
       "      <td>False</td>\n",
       "      <td>False</td>\n",
       "      <td>...</td>\n",
       "      <td>NEGATIVO</td>\n",
       "      <td>NaN</td>\n",
       "      <td>NaN</td>\n",
       "      <td>12.0</td>\n",
       "      <td>NaN</td>\n",
       "      <td>ADEGUATO</td>\n",
       "      <td>NaN</td>\n",
       "      <td>DODERLEIN</td>\n",
       "      <td>NEGATIVO</td>\n",
       "      <td>NaN</td>\n",
       "    </tr>\n",
       "    <tr>\n",
       "      <th>...</th>\n",
       "      <td>...</td>\n",
       "      <td>...</td>\n",
       "      <td>...</td>\n",
       "      <td>...</td>\n",
       "      <td>...</td>\n",
       "      <td>...</td>\n",
       "      <td>...</td>\n",
       "      <td>...</td>\n",
       "      <td>...</td>\n",
       "      <td>...</td>\n",
       "      <td>...</td>\n",
       "      <td>...</td>\n",
       "      <td>...</td>\n",
       "      <td>...</td>\n",
       "      <td>...</td>\n",
       "      <td>...</td>\n",
       "      <td>...</td>\n",
       "      <td>...</td>\n",
       "      <td>...</td>\n",
       "      <td>...</td>\n",
       "      <td>...</td>\n",
       "    </tr>\n",
       "    <tr>\n",
       "      <th>8774</th>\n",
       "      <td>61</td>\n",
       "      <td>2014-06-01</td>\n",
       "      <td>NaT</td>\n",
       "      <td>NaT</td>\n",
       "      <td>False</td>\n",
       "      <td>True</td>\n",
       "      <td>False</td>\n",
       "      <td>False</td>\n",
       "      <td>False</td>\n",
       "      <td>False</td>\n",
       "      <td>...</td>\n",
       "      <td>NaN</td>\n",
       "      <td>NaN</td>\n",
       "      <td>NaN</td>\n",
       "      <td>12.0</td>\n",
       "      <td>NaN</td>\n",
       "      <td>ADEGUATO</td>\n",
       "      <td>NaN</td>\n",
       "      <td>NaN</td>\n",
       "      <td>NEGATIVO</td>\n",
       "      <td>NaN</td>\n",
       "    </tr>\n",
       "    <tr>\n",
       "      <th>8775</th>\n",
       "      <td>52</td>\n",
       "      <td>2014-08-01</td>\n",
       "      <td>NaT</td>\n",
       "      <td>2012-01-01</td>\n",
       "      <td>False</td>\n",
       "      <td>True</td>\n",
       "      <td>True</td>\n",
       "      <td>False</td>\n",
       "      <td>False</td>\n",
       "      <td>False</td>\n",
       "      <td>...</td>\n",
       "      <td>NEGATIVO</td>\n",
       "      <td>NaN</td>\n",
       "      <td>NaN</td>\n",
       "      <td>12.0</td>\n",
       "      <td>NaN</td>\n",
       "      <td>ADEGUATO</td>\n",
       "      <td>NaN</td>\n",
       "      <td>NaN</td>\n",
       "      <td>NEGATIVO</td>\n",
       "      <td>NaN</td>\n",
       "    </tr>\n",
       "    <tr>\n",
       "      <th>8776</th>\n",
       "      <td>67</td>\n",
       "      <td>2013-09-01</td>\n",
       "      <td>NaT</td>\n",
       "      <td>NaT</td>\n",
       "      <td>False</td>\n",
       "      <td>True</td>\n",
       "      <td>True</td>\n",
       "      <td>False</td>\n",
       "      <td>False</td>\n",
       "      <td>False</td>\n",
       "      <td>...</td>\n",
       "      <td>NaN</td>\n",
       "      <td>NaN</td>\n",
       "      <td>NaN</td>\n",
       "      <td>12.0</td>\n",
       "      <td>NaN</td>\n",
       "      <td>ADEGUATO</td>\n",
       "      <td>NaN</td>\n",
       "      <td>NaN</td>\n",
       "      <td>NEGATIVO</td>\n",
       "      <td>NaN</td>\n",
       "    </tr>\n",
       "    <tr>\n",
       "      <th>8777</th>\n",
       "      <td>49</td>\n",
       "      <td>2014-05-01</td>\n",
       "      <td>2014-04-01</td>\n",
       "      <td>NaT</td>\n",
       "      <td>False</td>\n",
       "      <td>True</td>\n",
       "      <td>True</td>\n",
       "      <td>False</td>\n",
       "      <td>False</td>\n",
       "      <td>False</td>\n",
       "      <td>...</td>\n",
       "      <td>NaN</td>\n",
       "      <td>NaN</td>\n",
       "      <td>NaN</td>\n",
       "      <td>12.0</td>\n",
       "      <td>NaN</td>\n",
       "      <td>ADEGUATO</td>\n",
       "      <td>NaN</td>\n",
       "      <td>NaN</td>\n",
       "      <td>NEGATIVO</td>\n",
       "      <td>NaN</td>\n",
       "    </tr>\n",
       "    <tr>\n",
       "      <th>8778</th>\n",
       "      <td>30</td>\n",
       "      <td>2017-03-01</td>\n",
       "      <td>2017-02-01</td>\n",
       "      <td>NaT</td>\n",
       "      <td>False</td>\n",
       "      <td>True</td>\n",
       "      <td>True</td>\n",
       "      <td>False</td>\n",
       "      <td>False</td>\n",
       "      <td>False</td>\n",
       "      <td>...</td>\n",
       "      <td>NaN</td>\n",
       "      <td>NaN</td>\n",
       "      <td>NaN</td>\n",
       "      <td>12.0</td>\n",
       "      <td>NaN</td>\n",
       "      <td>ADEGUATO</td>\n",
       "      <td>NaN</td>\n",
       "      <td>NaN</td>\n",
       "      <td>NEGATIVO</td>\n",
       "      <td>NaN</td>\n",
       "    </tr>\n",
       "    <tr>\n",
       "      <th>8779</th>\n",
       "      <td>37</td>\n",
       "      <td>2017-03-01</td>\n",
       "      <td>2017-02-01</td>\n",
       "      <td>NaT</td>\n",
       "      <td>False</td>\n",
       "      <td>True</td>\n",
       "      <td>True</td>\n",
       "      <td>False</td>\n",
       "      <td>False</td>\n",
       "      <td>False</td>\n",
       "      <td>...</td>\n",
       "      <td>NaN</td>\n",
       "      <td>NaN</td>\n",
       "      <td>NaN</td>\n",
       "      <td>12.0</td>\n",
       "      <td>NaN</td>\n",
       "      <td>ADEGUATO</td>\n",
       "      <td>NaN</td>\n",
       "      <td>NaN</td>\n",
       "      <td>NEGATIVO</td>\n",
       "      <td>NaN</td>\n",
       "    </tr>\n",
       "    <tr>\n",
       "      <th>8780</th>\n",
       "      <td>33</td>\n",
       "      <td>2015-02-01</td>\n",
       "      <td>2014-11-01</td>\n",
       "      <td>NaT</td>\n",
       "      <td>False</td>\n",
       "      <td>True</td>\n",
       "      <td>True</td>\n",
       "      <td>False</td>\n",
       "      <td>False</td>\n",
       "      <td>False</td>\n",
       "      <td>...</td>\n",
       "      <td>NaN</td>\n",
       "      <td>NaN</td>\n",
       "      <td>NaN</td>\n",
       "      <td>12.0</td>\n",
       "      <td>NaN</td>\n",
       "      <td>ADEGUATO</td>\n",
       "      <td>NaN</td>\n",
       "      <td>NaN</td>\n",
       "      <td>NEGATIVO</td>\n",
       "      <td>NaN</td>\n",
       "    </tr>\n",
       "    <tr>\n",
       "      <th>8781</th>\n",
       "      <td>47</td>\n",
       "      <td>2014-06-01</td>\n",
       "      <td>2014-05-01</td>\n",
       "      <td>NaT</td>\n",
       "      <td>False</td>\n",
       "      <td>True</td>\n",
       "      <td>True</td>\n",
       "      <td>False</td>\n",
       "      <td>False</td>\n",
       "      <td>False</td>\n",
       "      <td>...</td>\n",
       "      <td>NaN</td>\n",
       "      <td>NaN</td>\n",
       "      <td>NaN</td>\n",
       "      <td>12.0</td>\n",
       "      <td>NaN</td>\n",
       "      <td>ADEGUATO</td>\n",
       "      <td>NaN</td>\n",
       "      <td>NaN</td>\n",
       "      <td>NEGATIVO</td>\n",
       "      <td>NaN</td>\n",
       "    </tr>\n",
       "    <tr>\n",
       "      <th>8782</th>\n",
       "      <td>38</td>\n",
       "      <td>2016-10-01</td>\n",
       "      <td>2016-09-01</td>\n",
       "      <td>NaT</td>\n",
       "      <td>False</td>\n",
       "      <td>True</td>\n",
       "      <td>True</td>\n",
       "      <td>False</td>\n",
       "      <td>False</td>\n",
       "      <td>False</td>\n",
       "      <td>...</td>\n",
       "      <td>NaN</td>\n",
       "      <td>NaN</td>\n",
       "      <td>NaN</td>\n",
       "      <td>12.0</td>\n",
       "      <td>NaN</td>\n",
       "      <td>ADEGUATO</td>\n",
       "      <td>NaN</td>\n",
       "      <td>NaN</td>\n",
       "      <td>NEGATIVO</td>\n",
       "      <td>NaN</td>\n",
       "    </tr>\n",
       "    <tr>\n",
       "      <th>8783</th>\n",
       "      <td>50</td>\n",
       "      <td>2016-07-01</td>\n",
       "      <td>NaT</td>\n",
       "      <td>NaT</td>\n",
       "      <td>False</td>\n",
       "      <td>True</td>\n",
       "      <td>True</td>\n",
       "      <td>False</td>\n",
       "      <td>False</td>\n",
       "      <td>False</td>\n",
       "      <td>...</td>\n",
       "      <td>NaN</td>\n",
       "      <td>NaN</td>\n",
       "      <td>NaN</td>\n",
       "      <td>12.0</td>\n",
       "      <td>NaN</td>\n",
       "      <td>ADEGUATO</td>\n",
       "      <td>NaN</td>\n",
       "      <td>NaN</td>\n",
       "      <td>NEGATIVO</td>\n",
       "      <td>NaN</td>\n",
       "    </tr>\n",
       "    <tr>\n",
       "      <th>8784</th>\n",
       "      <td>47</td>\n",
       "      <td>2017-03-01</td>\n",
       "      <td>NaT</td>\n",
       "      <td>NaT</td>\n",
       "      <td>False</td>\n",
       "      <td>True</td>\n",
       "      <td>True</td>\n",
       "      <td>False</td>\n",
       "      <td>False</td>\n",
       "      <td>False</td>\n",
       "      <td>...</td>\n",
       "      <td>NaN</td>\n",
       "      <td>NaN</td>\n",
       "      <td>NaN</td>\n",
       "      <td>12.0</td>\n",
       "      <td>NaN</td>\n",
       "      <td>ADEGUATO</td>\n",
       "      <td>NaN</td>\n",
       "      <td>NaN</td>\n",
       "      <td>NEGATIVO</td>\n",
       "      <td>NaN</td>\n",
       "    </tr>\n",
       "    <tr>\n",
       "      <th>8785</th>\n",
       "      <td>52</td>\n",
       "      <td>2016-04-01</td>\n",
       "      <td>2016-04-01</td>\n",
       "      <td>NaT</td>\n",
       "      <td>False</td>\n",
       "      <td>True</td>\n",
       "      <td>True</td>\n",
       "      <td>False</td>\n",
       "      <td>False</td>\n",
       "      <td>False</td>\n",
       "      <td>...</td>\n",
       "      <td>NaN</td>\n",
       "      <td>NaN</td>\n",
       "      <td>NaN</td>\n",
       "      <td>12.0</td>\n",
       "      <td>NaN</td>\n",
       "      <td>ADEGUATO</td>\n",
       "      <td>NaN</td>\n",
       "      <td>NaN</td>\n",
       "      <td>NEGATIVO</td>\n",
       "      <td>NaN</td>\n",
       "    </tr>\n",
       "    <tr>\n",
       "      <th>8786</th>\n",
       "      <td>33</td>\n",
       "      <td>2017-03-01</td>\n",
       "      <td>2017-03-01</td>\n",
       "      <td>NaT</td>\n",
       "      <td>False</td>\n",
       "      <td>True</td>\n",
       "      <td>True</td>\n",
       "      <td>False</td>\n",
       "      <td>False</td>\n",
       "      <td>False</td>\n",
       "      <td>...</td>\n",
       "      <td>NaN</td>\n",
       "      <td>NaN</td>\n",
       "      <td>NaN</td>\n",
       "      <td>12.0</td>\n",
       "      <td>NaN</td>\n",
       "      <td>ADEGUATO</td>\n",
       "      <td>NaN</td>\n",
       "      <td>NaN</td>\n",
       "      <td>NEGATIVO</td>\n",
       "      <td>NaN</td>\n",
       "    </tr>\n",
       "    <tr>\n",
       "      <th>8787</th>\n",
       "      <td>59</td>\n",
       "      <td>2017-03-01</td>\n",
       "      <td>NaT</td>\n",
       "      <td>NaT</td>\n",
       "      <td>False</td>\n",
       "      <td>True</td>\n",
       "      <td>True</td>\n",
       "      <td>False</td>\n",
       "      <td>False</td>\n",
       "      <td>False</td>\n",
       "      <td>...</td>\n",
       "      <td>NaN</td>\n",
       "      <td>NaN</td>\n",
       "      <td>NaN</td>\n",
       "      <td>12.0</td>\n",
       "      <td>NaN</td>\n",
       "      <td>ADEGUATO</td>\n",
       "      <td>NaN</td>\n",
       "      <td>NaN</td>\n",
       "      <td>NEGATIVO</td>\n",
       "      <td>NaN</td>\n",
       "    </tr>\n",
       "    <tr>\n",
       "      <th>8788</th>\n",
       "      <td>76</td>\n",
       "      <td>2014-10-01</td>\n",
       "      <td>NaT</td>\n",
       "      <td>NaT</td>\n",
       "      <td>False</td>\n",
       "      <td>True</td>\n",
       "      <td>True</td>\n",
       "      <td>False</td>\n",
       "      <td>False</td>\n",
       "      <td>False</td>\n",
       "      <td>...</td>\n",
       "      <td>NaN</td>\n",
       "      <td>NaN</td>\n",
       "      <td>NaN</td>\n",
       "      <td>12.0</td>\n",
       "      <td>NaN</td>\n",
       "      <td>ADEGUATO</td>\n",
       "      <td>NaN</td>\n",
       "      <td>NaN</td>\n",
       "      <td>NEGATIVO</td>\n",
       "      <td>NaN</td>\n",
       "    </tr>\n",
       "    <tr>\n",
       "      <th>8789</th>\n",
       "      <td>62</td>\n",
       "      <td>2014-10-01</td>\n",
       "      <td>NaT</td>\n",
       "      <td>NaT</td>\n",
       "      <td>False</td>\n",
       "      <td>True</td>\n",
       "      <td>True</td>\n",
       "      <td>False</td>\n",
       "      <td>False</td>\n",
       "      <td>False</td>\n",
       "      <td>...</td>\n",
       "      <td>NaN</td>\n",
       "      <td>NaN</td>\n",
       "      <td>NaN</td>\n",
       "      <td>12.0</td>\n",
       "      <td>NaN</td>\n",
       "      <td>ADEGUATO</td>\n",
       "      <td>NaN</td>\n",
       "      <td>NaN</td>\n",
       "      <td>NEGATIVO</td>\n",
       "      <td>NaN</td>\n",
       "    </tr>\n",
       "    <tr>\n",
       "      <th>8790</th>\n",
       "      <td>57</td>\n",
       "      <td>2013-06-01</td>\n",
       "      <td>NaT</td>\n",
       "      <td>NaT</td>\n",
       "      <td>False</td>\n",
       "      <td>True</td>\n",
       "      <td>True</td>\n",
       "      <td>False</td>\n",
       "      <td>False</td>\n",
       "      <td>False</td>\n",
       "      <td>...</td>\n",
       "      <td>NaN</td>\n",
       "      <td>NaN</td>\n",
       "      <td>NaN</td>\n",
       "      <td>12.0</td>\n",
       "      <td>NaN</td>\n",
       "      <td>ADEGUATO</td>\n",
       "      <td>NaN</td>\n",
       "      <td>NaN</td>\n",
       "      <td>NEGATIVO</td>\n",
       "      <td>NaN</td>\n",
       "    </tr>\n",
       "    <tr>\n",
       "      <th>8791</th>\n",
       "      <td>51</td>\n",
       "      <td>2013-06-01</td>\n",
       "      <td>2011-08-01</td>\n",
       "      <td>NaT</td>\n",
       "      <td>False</td>\n",
       "      <td>True</td>\n",
       "      <td>True</td>\n",
       "      <td>False</td>\n",
       "      <td>False</td>\n",
       "      <td>False</td>\n",
       "      <td>...</td>\n",
       "      <td>NaN</td>\n",
       "      <td>NaN</td>\n",
       "      <td>NaN</td>\n",
       "      <td>12.0</td>\n",
       "      <td>NaN</td>\n",
       "      <td>ADEGUATO</td>\n",
       "      <td>NaN</td>\n",
       "      <td>NaN</td>\n",
       "      <td>NEGATIVO</td>\n",
       "      <td>NaN</td>\n",
       "    </tr>\n",
       "    <tr>\n",
       "      <th>8792</th>\n",
       "      <td>48</td>\n",
       "      <td>2013-09-01</td>\n",
       "      <td>2013-08-01</td>\n",
       "      <td>2012-01-01</td>\n",
       "      <td>False</td>\n",
       "      <td>True</td>\n",
       "      <td>True</td>\n",
       "      <td>False</td>\n",
       "      <td>False</td>\n",
       "      <td>False</td>\n",
       "      <td>...</td>\n",
       "      <td>NEGATIVO</td>\n",
       "      <td>NaN</td>\n",
       "      <td>NaN</td>\n",
       "      <td>12.0</td>\n",
       "      <td>NaN</td>\n",
       "      <td>ADEGUATO</td>\n",
       "      <td>NaN</td>\n",
       "      <td>NaN</td>\n",
       "      <td>NEGATIVO</td>\n",
       "      <td>NaN</td>\n",
       "    </tr>\n",
       "    <tr>\n",
       "      <th>8793</th>\n",
       "      <td>57</td>\n",
       "      <td>2014-09-01</td>\n",
       "      <td>NaT</td>\n",
       "      <td>NaT</td>\n",
       "      <td>False</td>\n",
       "      <td>True</td>\n",
       "      <td>True</td>\n",
       "      <td>False</td>\n",
       "      <td>False</td>\n",
       "      <td>False</td>\n",
       "      <td>...</td>\n",
       "      <td>NaN</td>\n",
       "      <td>NaN</td>\n",
       "      <td>NaN</td>\n",
       "      <td>12.0</td>\n",
       "      <td>NaN</td>\n",
       "      <td>ADEGUATO</td>\n",
       "      <td>NaN</td>\n",
       "      <td>NaN</td>\n",
       "      <td>NEGATIVO</td>\n",
       "      <td>NaN</td>\n",
       "    </tr>\n",
       "    <tr>\n",
       "      <th>8794</th>\n",
       "      <td>47</td>\n",
       "      <td>2015-11-01</td>\n",
       "      <td>2015-10-01</td>\n",
       "      <td>2006-01-01</td>\n",
       "      <td>False</td>\n",
       "      <td>True</td>\n",
       "      <td>True</td>\n",
       "      <td>False</td>\n",
       "      <td>False</td>\n",
       "      <td>False</td>\n",
       "      <td>...</td>\n",
       "      <td>NaN</td>\n",
       "      <td>NaN</td>\n",
       "      <td>NaN</td>\n",
       "      <td>12.0</td>\n",
       "      <td>NaN</td>\n",
       "      <td>ADEGUATO</td>\n",
       "      <td>NaN</td>\n",
       "      <td>NaN</td>\n",
       "      <td>NEGATIVO</td>\n",
       "      <td>NaN</td>\n",
       "    </tr>\n",
       "    <tr>\n",
       "      <th>8795</th>\n",
       "      <td>39</td>\n",
       "      <td>2014-05-01</td>\n",
       "      <td>2014-05-01</td>\n",
       "      <td>NaT</td>\n",
       "      <td>False</td>\n",
       "      <td>True</td>\n",
       "      <td>True</td>\n",
       "      <td>False</td>\n",
       "      <td>False</td>\n",
       "      <td>False</td>\n",
       "      <td>...</td>\n",
       "      <td>NaN</td>\n",
       "      <td>NaN</td>\n",
       "      <td>NaN</td>\n",
       "      <td>12.0</td>\n",
       "      <td>NaN</td>\n",
       "      <td>NaN</td>\n",
       "      <td>NaN</td>\n",
       "      <td>NaN</td>\n",
       "      <td>NEGATIVO</td>\n",
       "      <td>NaN</td>\n",
       "    </tr>\n",
       "    <tr>\n",
       "      <th>8796</th>\n",
       "      <td>64</td>\n",
       "      <td>2014-11-01</td>\n",
       "      <td>NaT</td>\n",
       "      <td>NaT</td>\n",
       "      <td>False</td>\n",
       "      <td>True</td>\n",
       "      <td>True</td>\n",
       "      <td>False</td>\n",
       "      <td>False</td>\n",
       "      <td>False</td>\n",
       "      <td>...</td>\n",
       "      <td>NaN</td>\n",
       "      <td>NaN</td>\n",
       "      <td>NaN</td>\n",
       "      <td>12.0</td>\n",
       "      <td>NaN</td>\n",
       "      <td>ADEGUATO</td>\n",
       "      <td>NaN</td>\n",
       "      <td>NaN</td>\n",
       "      <td>NEGATIVO</td>\n",
       "      <td>NaN</td>\n",
       "    </tr>\n",
       "    <tr>\n",
       "      <th>8797</th>\n",
       "      <td>54</td>\n",
       "      <td>2014-11-01</td>\n",
       "      <td>NaT</td>\n",
       "      <td>NaT</td>\n",
       "      <td>False</td>\n",
       "      <td>True</td>\n",
       "      <td>True</td>\n",
       "      <td>False</td>\n",
       "      <td>False</td>\n",
       "      <td>False</td>\n",
       "      <td>...</td>\n",
       "      <td>NaN</td>\n",
       "      <td>NaN</td>\n",
       "      <td>NaN</td>\n",
       "      <td>12.0</td>\n",
       "      <td>NaN</td>\n",
       "      <td>ADEGUATO</td>\n",
       "      <td>NaN</td>\n",
       "      <td>NaN</td>\n",
       "      <td>NEGATIVO</td>\n",
       "      <td>NaN</td>\n",
       "    </tr>\n",
       "    <tr>\n",
       "      <th>8798</th>\n",
       "      <td>46</td>\n",
       "      <td>2013-06-01</td>\n",
       "      <td>2013-02-01</td>\n",
       "      <td>NaT</td>\n",
       "      <td>False</td>\n",
       "      <td>True</td>\n",
       "      <td>True</td>\n",
       "      <td>False</td>\n",
       "      <td>False</td>\n",
       "      <td>False</td>\n",
       "      <td>...</td>\n",
       "      <td>NaN</td>\n",
       "      <td>NaN</td>\n",
       "      <td>NaN</td>\n",
       "      <td>12.0</td>\n",
       "      <td>NaN</td>\n",
       "      <td>ADEGUATO</td>\n",
       "      <td>NaN</td>\n",
       "      <td>NaN</td>\n",
       "      <td>NEGATIVO</td>\n",
       "      <td>NaN</td>\n",
       "    </tr>\n",
       "    <tr>\n",
       "      <th>8799</th>\n",
       "      <td>32</td>\n",
       "      <td>2013-08-01</td>\n",
       "      <td>2012-10-01</td>\n",
       "      <td>NaT</td>\n",
       "      <td>False</td>\n",
       "      <td>True</td>\n",
       "      <td>True</td>\n",
       "      <td>False</td>\n",
       "      <td>False</td>\n",
       "      <td>False</td>\n",
       "      <td>...</td>\n",
       "      <td>NaN</td>\n",
       "      <td>NaN</td>\n",
       "      <td>NaN</td>\n",
       "      <td>12.0</td>\n",
       "      <td>NaN</td>\n",
       "      <td>ADEGUATO</td>\n",
       "      <td>NaN</td>\n",
       "      <td>NaN</td>\n",
       "      <td>NEGATIVO</td>\n",
       "      <td>NaN</td>\n",
       "    </tr>\n",
       "    <tr>\n",
       "      <th>8800</th>\n",
       "      <td>48</td>\n",
       "      <td>2014-10-01</td>\n",
       "      <td>NaT</td>\n",
       "      <td>NaT</td>\n",
       "      <td>False</td>\n",
       "      <td>True</td>\n",
       "      <td>True</td>\n",
       "      <td>False</td>\n",
       "      <td>False</td>\n",
       "      <td>False</td>\n",
       "      <td>...</td>\n",
       "      <td>NaN</td>\n",
       "      <td>NaN</td>\n",
       "      <td>NaN</td>\n",
       "      <td>12.0</td>\n",
       "      <td>NaN</td>\n",
       "      <td>ADEGUATO</td>\n",
       "      <td>NaN</td>\n",
       "      <td>NaN</td>\n",
       "      <td>NEGATIVO</td>\n",
       "      <td>NaN</td>\n",
       "    </tr>\n",
       "    <tr>\n",
       "      <th>8801</th>\n",
       "      <td>47</td>\n",
       "      <td>2015-02-01</td>\n",
       "      <td>2015-02-01</td>\n",
       "      <td>2009-01-01</td>\n",
       "      <td>False</td>\n",
       "      <td>True</td>\n",
       "      <td>True</td>\n",
       "      <td>False</td>\n",
       "      <td>False</td>\n",
       "      <td>False</td>\n",
       "      <td>...</td>\n",
       "      <td>NEGATIVO</td>\n",
       "      <td>NaN</td>\n",
       "      <td>NaN</td>\n",
       "      <td>12.0</td>\n",
       "      <td>NaN</td>\n",
       "      <td>ADEGUATO</td>\n",
       "      <td>NaN</td>\n",
       "      <td>NaN</td>\n",
       "      <td>NEGATIVO</td>\n",
       "      <td>NaN</td>\n",
       "    </tr>\n",
       "    <tr>\n",
       "      <th>8802</th>\n",
       "      <td>61</td>\n",
       "      <td>2013-09-01</td>\n",
       "      <td>NaT</td>\n",
       "      <td>2011-01-01</td>\n",
       "      <td>False</td>\n",
       "      <td>True</td>\n",
       "      <td>True</td>\n",
       "      <td>False</td>\n",
       "      <td>False</td>\n",
       "      <td>False</td>\n",
       "      <td>...</td>\n",
       "      <td>NEGATIVO</td>\n",
       "      <td>NaN</td>\n",
       "      <td>NaN</td>\n",
       "      <td>12.0</td>\n",
       "      <td>NaN</td>\n",
       "      <td>ADEGUATO</td>\n",
       "      <td>NaN</td>\n",
       "      <td>NaN</td>\n",
       "      <td>NEGATIVO</td>\n",
       "      <td>NaN</td>\n",
       "    </tr>\n",
       "    <tr>\n",
       "      <th>8803</th>\n",
       "      <td>38</td>\n",
       "      <td>2017-11-01</td>\n",
       "      <td>NaT</td>\n",
       "      <td>NaT</td>\n",
       "      <td>False</td>\n",
       "      <td>True</td>\n",
       "      <td>True</td>\n",
       "      <td>False</td>\n",
       "      <td>False</td>\n",
       "      <td>False</td>\n",
       "      <td>...</td>\n",
       "      <td>NaN</td>\n",
       "      <td>NaN</td>\n",
       "      <td>NaN</td>\n",
       "      <td>12.0</td>\n",
       "      <td>NaN</td>\n",
       "      <td>ADEGUATO</td>\n",
       "      <td>NaN</td>\n",
       "      <td>NaN</td>\n",
       "      <td>NEGATIVO</td>\n",
       "      <td>NaN</td>\n",
       "    </tr>\n",
       "  </tbody>\n",
       "</table>\n",
       "<p>8804 rows × 32 columns</p>\n",
       "</div>"
      ],
      "text/plain": [
       "      ETA_PRELIEVO DATA_PRELIEVO DATA_ULTIMA_MESTRUAZIONE DATA_PAP_PRECEDENTE  \\\n",
       "0               54    2018-04-01                      NaT                 NaT   \n",
       "1               49    2015-11-01               2015-10-01                 NaT   \n",
       "2               45    2015-07-01               2015-06-01                 NaT   \n",
       "3               66    2016-04-01                      NaT          2012-01-01   \n",
       "4               41    2016-03-01               2016-02-01          2013-01-01   \n",
       "5               24    2016-05-01               2016-04-01                 NaT   \n",
       "6               29    2016-06-01               2016-05-01                 NaT   \n",
       "7               27    2016-04-01               2016-03-01                 NaT   \n",
       "8               55    2016-06-01                      NaT          2016-01-01   \n",
       "9               33    2015-03-01               2015-02-01                 NaT   \n",
       "10              31    2015-12-01               2015-11-01                 NaT   \n",
       "11              33    2014-08-01               2014-08-01                 NaT   \n",
       "12              40    2015-08-01               2015-07-01          2014-01-01   \n",
       "13              42    2015-07-01               2015-06-01                 NaT   \n",
       "14              47    2014-09-01               2014-07-01                 NaT   \n",
       "15              23    2015-07-01               2015-05-01          2014-01-01   \n",
       "16              35    2015-02-01               2015-02-01                 NaT   \n",
       "17              33    2016-04-01               2016-03-01                 NaT   \n",
       "18              44    2015-10-01               2015-10-01          2014-01-01   \n",
       "19              63    2015-07-01                      NaT          2012-01-01   \n",
       "20              37    2014-07-01               2014-07-01                 NaT   \n",
       "21              34    2015-09-01               2015-09-01                 NaT   \n",
       "22              37    2016-03-01               2016-03-01          2012-01-01   \n",
       "23              32    2014-06-01               2014-05-01                 NaT   \n",
       "24              55    2014-06-01               2012-12-01                 NaT   \n",
       "25              77    2016-06-01                      NaT                 NaT   \n",
       "26              50    2016-02-01               2016-02-01                 NaT   \n",
       "27              24    2016-02-01                      NaT                 NaT   \n",
       "28              35    2016-08-01               2016-07-01                 NaT   \n",
       "29              48    2013-06-01               2013-05-01          2011-01-01   \n",
       "...            ...           ...                      ...                 ...   \n",
       "8774            61    2014-06-01                      NaT                 NaT   \n",
       "8775            52    2014-08-01                      NaT          2012-01-01   \n",
       "8776            67    2013-09-01                      NaT                 NaT   \n",
       "8777            49    2014-05-01               2014-04-01                 NaT   \n",
       "8778            30    2017-03-01               2017-02-01                 NaT   \n",
       "8779            37    2017-03-01               2017-02-01                 NaT   \n",
       "8780            33    2015-02-01               2014-11-01                 NaT   \n",
       "8781            47    2014-06-01               2014-05-01                 NaT   \n",
       "8782            38    2016-10-01               2016-09-01                 NaT   \n",
       "8783            50    2016-07-01                      NaT                 NaT   \n",
       "8784            47    2017-03-01                      NaT                 NaT   \n",
       "8785            52    2016-04-01               2016-04-01                 NaT   \n",
       "8786            33    2017-03-01               2017-03-01                 NaT   \n",
       "8787            59    2017-03-01                      NaT                 NaT   \n",
       "8788            76    2014-10-01                      NaT                 NaT   \n",
       "8789            62    2014-10-01                      NaT                 NaT   \n",
       "8790            57    2013-06-01                      NaT                 NaT   \n",
       "8791            51    2013-06-01               2011-08-01                 NaT   \n",
       "8792            48    2013-09-01               2013-08-01          2012-01-01   \n",
       "8793            57    2014-09-01                      NaT                 NaT   \n",
       "8794            47    2015-11-01               2015-10-01          2006-01-01   \n",
       "8795            39    2014-05-01               2014-05-01                 NaT   \n",
       "8796            64    2014-11-01                      NaT                 NaT   \n",
       "8797            54    2014-11-01                      NaT                 NaT   \n",
       "8798            46    2013-06-01               2013-02-01                 NaT   \n",
       "8799            32    2013-08-01               2012-10-01                 NaT   \n",
       "8800            48    2014-10-01                      NaT                 NaT   \n",
       "8801            47    2015-02-01               2015-02-01          2009-01-01   \n",
       "8802            61    2013-09-01                      NaT          2011-01-01   \n",
       "8803            38    2017-11-01                      NaT                 NaT   \n",
       "\n",
       "      FORNICE  PORTIO  CAN_CERV  CAV_UT  PERDITE_ER  LEUCORREA   ...    \\\n",
       "0       False    True      True   False       False      False   ...     \n",
       "1       False    True      True   False       False      False   ...     \n",
       "2       False    True      True   False       False      False   ...     \n",
       "3       False    True      True   False       False      False   ...     \n",
       "4       False    True      True   False       False      False   ...     \n",
       "5       False    True      True   False       False      False   ...     \n",
       "6       False    True      True   False       False       True   ...     \n",
       "7       False    True      True   False       False      False   ...     \n",
       "8       False    True      True   False       False      False   ...     \n",
       "9       False    True      True   False       False      False   ...     \n",
       "10      False    True      True   False       False      False   ...     \n",
       "11      False    True      True   False       False      False   ...     \n",
       "12      False    True      True   False       False      False   ...     \n",
       "13      False    True      True   False       False      False   ...     \n",
       "14      False    True      True   False       False      False   ...     \n",
       "15      False    True      True   False       False      False   ...     \n",
       "16      False    True      True   False       False      False   ...     \n",
       "17      False    True      True   False       False      False   ...     \n",
       "18      False    True      True   False       False      False   ...     \n",
       "19      False    True      True   False       False      False   ...     \n",
       "20      False    True      True   False       False      False   ...     \n",
       "21      False    True      True   False       False      False   ...     \n",
       "22      False    True      True   False       False      False   ...     \n",
       "23      False    True      True   False       False      False   ...     \n",
       "24      False    True      True   False       False      False   ...     \n",
       "25      False    True      True   False       False      False   ...     \n",
       "26      False    True      True   False       False      False   ...     \n",
       "27      False    True      True   False       False      False   ...     \n",
       "28      False    True      True   False       False      False   ...     \n",
       "29      False    True      True   False       False      False   ...     \n",
       "...       ...     ...       ...     ...         ...        ...   ...     \n",
       "8774    False    True     False   False       False      False   ...     \n",
       "8775    False    True      True   False       False      False   ...     \n",
       "8776    False    True      True   False       False      False   ...     \n",
       "8777    False    True      True   False       False      False   ...     \n",
       "8778    False    True      True   False       False      False   ...     \n",
       "8779    False    True      True   False       False      False   ...     \n",
       "8780    False    True      True   False       False      False   ...     \n",
       "8781    False    True      True   False       False      False   ...     \n",
       "8782    False    True      True   False       False      False   ...     \n",
       "8783    False    True      True   False       False      False   ...     \n",
       "8784    False    True      True   False       False      False   ...     \n",
       "8785    False    True      True   False       False      False   ...     \n",
       "8786    False    True      True   False       False      False   ...     \n",
       "8787    False    True      True   False       False      False   ...     \n",
       "8788    False    True      True   False       False      False   ...     \n",
       "8789    False    True      True   False       False      False   ...     \n",
       "8790    False    True      True   False       False      False   ...     \n",
       "8791    False    True      True   False       False      False   ...     \n",
       "8792    False    True      True   False       False      False   ...     \n",
       "8793    False    True      True   False       False      False   ...     \n",
       "8794    False    True      True   False       False      False   ...     \n",
       "8795    False    True      True   False       False      False   ...     \n",
       "8796    False    True      True   False       False      False   ...     \n",
       "8797    False    True      True   False       False      False   ...     \n",
       "8798    False    True      True   False       False      False   ...     \n",
       "8799    False    True      True   False       False      False   ...     \n",
       "8800    False    True      True   False       False      False   ...     \n",
       "8801    False    True      True   False       False      False   ...     \n",
       "8802    False    True      True   False       False      False   ...     \n",
       "8803    False    True      True   False       False      False   ...     \n",
       "\n",
       "      CITO_PREC  VIRALE_PREC  BATT_PREC  CONTROLLO  CTRL_ISTOLOGICO  \\\n",
       "0           NaN          NaN        NaN        NaN              NaN   \n",
       "1           NaN          NaN        NaN        NaN              NaN   \n",
       "2           NaN          NaN        NaN        NaN              NaN   \n",
       "3      NEGATIVO          NaN        NaN        NaN              NaN   \n",
       "4      NEGATIVO          NaN        NaN       12.0              NaN   \n",
       "5           NaN          NaN        NaN       12.0              NaN   \n",
       "6           NaN          NaN        NaN       12.0              NaN   \n",
       "7           NaN          NaN        NaN       12.0              NaN   \n",
       "8      NEGATIVO          HPV        NaN       12.0              NaN   \n",
       "9           NaN          NaN        NaN       12.0              NaN   \n",
       "10          NaN          NaN        NaN       12.0              NaN   \n",
       "11          NaN          NaN        NaN       12.0              NaN   \n",
       "12          NaN          NaN        NaN       12.0              NaN   \n",
       "13          NaN          NaN        NaN       12.0              NaN   \n",
       "14          NaN          NaN        NaN       12.0              NaN   \n",
       "15         LSIL          NaN        NaN       12.0              NaN   \n",
       "16          NaN          NaN        NaN       12.0              NaN   \n",
       "17          NaN          NaN        NaN       12.0              NaN   \n",
       "18     NEGATIVO          NaN        NaN       12.0              NaN   \n",
       "19     NEGATIVO          NaN        NaN       12.0              NaN   \n",
       "20          NaN          NaN        NaN       12.0              NaN   \n",
       "21          NaN          NaN        NaN       12.0              NaN   \n",
       "22          NaN          NaN        NaN       12.0              NaN   \n",
       "23          NaN          NaN        NaN       12.0              NaN   \n",
       "24          NaN          NaN        NaN       12.0              NaN   \n",
       "25          NaN          NaN        NaN       12.0              NaN   \n",
       "26          NaN          NaN        NaN       12.0              NaN   \n",
       "27          NaN          NaN        NaN       12.0              NaN   \n",
       "28          NaN          NaN        NaN       12.0              NaN   \n",
       "29     NEGATIVO          NaN        NaN       12.0              NaN   \n",
       "...         ...          ...        ...        ...              ...   \n",
       "8774        NaN          NaN        NaN       12.0              NaN   \n",
       "8775   NEGATIVO          NaN        NaN       12.0              NaN   \n",
       "8776        NaN          NaN        NaN       12.0              NaN   \n",
       "8777        NaN          NaN        NaN       12.0              NaN   \n",
       "8778        NaN          NaN        NaN       12.0              NaN   \n",
       "8779        NaN          NaN        NaN       12.0              NaN   \n",
       "8780        NaN          NaN        NaN       12.0              NaN   \n",
       "8781        NaN          NaN        NaN       12.0              NaN   \n",
       "8782        NaN          NaN        NaN       12.0              NaN   \n",
       "8783        NaN          NaN        NaN       12.0              NaN   \n",
       "8784        NaN          NaN        NaN       12.0              NaN   \n",
       "8785        NaN          NaN        NaN       12.0              NaN   \n",
       "8786        NaN          NaN        NaN       12.0              NaN   \n",
       "8787        NaN          NaN        NaN       12.0              NaN   \n",
       "8788        NaN          NaN        NaN       12.0              NaN   \n",
       "8789        NaN          NaN        NaN       12.0              NaN   \n",
       "8790        NaN          NaN        NaN       12.0              NaN   \n",
       "8791        NaN          NaN        NaN       12.0              NaN   \n",
       "8792   NEGATIVO          NaN        NaN       12.0              NaN   \n",
       "8793        NaN          NaN        NaN       12.0              NaN   \n",
       "8794        NaN          NaN        NaN       12.0              NaN   \n",
       "8795        NaN          NaN        NaN       12.0              NaN   \n",
       "8796        NaN          NaN        NaN       12.0              NaN   \n",
       "8797        NaN          NaN        NaN       12.0              NaN   \n",
       "8798        NaN          NaN        NaN       12.0              NaN   \n",
       "8799        NaN          NaN        NaN       12.0              NaN   \n",
       "8800        NaN          NaN        NaN       12.0              NaN   \n",
       "8801   NEGATIVO          NaN        NaN       12.0              NaN   \n",
       "8802   NEGATIVO          NaN        NaN       12.0              NaN   \n",
       "8803        NaN          NaN        NaN       12.0              NaN   \n",
       "\n",
       "      VALIDITA_CAMPIONE  CAUSA_CAMPIONE_NON_VALIDO       BATT      CITO  \\\n",
       "0              ADEGUATO                        NaN        NaN   AGC-NOS   \n",
       "1              ADEGUATO                        NaN    CANDIDA  NEGATIVO   \n",
       "2              ADEGUATO                        NaN        NaN     ASCUS   \n",
       "3              ADEGUATO                        NaN        NaN   AGC-NOS   \n",
       "4              ADEGUATO                        NaN  DODERLEIN  NEGATIVO   \n",
       "5              ADEGUATO                        NaN     COCCHI  NEGATIVO   \n",
       "6              ADEGUATO                        NaN     COCCHI  NEGATIVO   \n",
       "7              ADEGUATO                        NaN     COCCHI  NEGATIVO   \n",
       "8                   NaN                        NaN     COCCHI  NEGATIVO   \n",
       "9              ADEGUATO                        NaN     COCCHI  NEGATIVO   \n",
       "10             ADEGUATO                        NaN     COCCHI  NEGATIVO   \n",
       "11             ADEGUATO                        NaN     COCCHI  NEGATIVO   \n",
       "12             ADEGUATO                        NaN     COCCHI  NEGATIVO   \n",
       "13             ADEGUATO                        NaN     COCCHI  NEGATIVO   \n",
       "14             ADEGUATO                        NaN     COCCHI  NEGATIVO   \n",
       "15             ADEGUATO                        NaN     COCCHI  NEGATIVO   \n",
       "16             ADEGUATO                        NaN     COCCHI  NEGATIVO   \n",
       "17             ADEGUATO                        NaN     COCCHI  NEGATIVO   \n",
       "18             ADEGUATO                        NaN     COCCHI  NEGATIVO   \n",
       "19             ADEGUATO                        NaN     COCCHI  NEGATIVO   \n",
       "20             ADEGUATO                        NaN     COCCHI  NEGATIVO   \n",
       "21             ADEGUATO                        NaN     COCCHI  NEGATIVO   \n",
       "22             ADEGUATO                        NaN     COCCHI  NEGATIVO   \n",
       "23             ADEGUATO                        NaN     COCCHI  NEGATIVO   \n",
       "24             ADEGUATO                        NaN     COCCHI  NEGATIVO   \n",
       "25             ADEGUATO                        NaN     COCCHI  NEGATIVO   \n",
       "26             ADEGUATO                        NaN     COCCHI  NEGATIVO   \n",
       "27             ADEGUATO                        NaN     COCCHI  NEGATIVO   \n",
       "28             ADEGUATO                        NaN  DODERLEIN  NEGATIVO   \n",
       "29             ADEGUATO                        NaN  DODERLEIN  NEGATIVO   \n",
       "...                 ...                        ...        ...       ...   \n",
       "8774           ADEGUATO                        NaN        NaN  NEGATIVO   \n",
       "8775           ADEGUATO                        NaN        NaN  NEGATIVO   \n",
       "8776           ADEGUATO                        NaN        NaN  NEGATIVO   \n",
       "8777           ADEGUATO                        NaN        NaN  NEGATIVO   \n",
       "8778           ADEGUATO                        NaN        NaN  NEGATIVO   \n",
       "8779           ADEGUATO                        NaN        NaN  NEGATIVO   \n",
       "8780           ADEGUATO                        NaN        NaN  NEGATIVO   \n",
       "8781           ADEGUATO                        NaN        NaN  NEGATIVO   \n",
       "8782           ADEGUATO                        NaN        NaN  NEGATIVO   \n",
       "8783           ADEGUATO                        NaN        NaN  NEGATIVO   \n",
       "8784           ADEGUATO                        NaN        NaN  NEGATIVO   \n",
       "8785           ADEGUATO                        NaN        NaN  NEGATIVO   \n",
       "8786           ADEGUATO                        NaN        NaN  NEGATIVO   \n",
       "8787           ADEGUATO                        NaN        NaN  NEGATIVO   \n",
       "8788           ADEGUATO                        NaN        NaN  NEGATIVO   \n",
       "8789           ADEGUATO                        NaN        NaN  NEGATIVO   \n",
       "8790           ADEGUATO                        NaN        NaN  NEGATIVO   \n",
       "8791           ADEGUATO                        NaN        NaN  NEGATIVO   \n",
       "8792           ADEGUATO                        NaN        NaN  NEGATIVO   \n",
       "8793           ADEGUATO                        NaN        NaN  NEGATIVO   \n",
       "8794           ADEGUATO                        NaN        NaN  NEGATIVO   \n",
       "8795                NaN                        NaN        NaN  NEGATIVO   \n",
       "8796           ADEGUATO                        NaN        NaN  NEGATIVO   \n",
       "8797           ADEGUATO                        NaN        NaN  NEGATIVO   \n",
       "8798           ADEGUATO                        NaN        NaN  NEGATIVO   \n",
       "8799           ADEGUATO                        NaN        NaN  NEGATIVO   \n",
       "8800           ADEGUATO                        NaN        NaN  NEGATIVO   \n",
       "8801           ADEGUATO                        NaN        NaN  NEGATIVO   \n",
       "8802           ADEGUATO                        NaN        NaN  NEGATIVO   \n",
       "8803           ADEGUATO                        NaN        NaN  NEGATIVO   \n",
       "\n",
       "      VIRALE  \n",
       "0        NaN  \n",
       "1        NaN  \n",
       "2        NaN  \n",
       "3        NaN  \n",
       "4        NaN  \n",
       "5        NaN  \n",
       "6        NaN  \n",
       "7        NaN  \n",
       "8        NaN  \n",
       "9        NaN  \n",
       "10       NaN  \n",
       "11       NaN  \n",
       "12       NaN  \n",
       "13       NaN  \n",
       "14       NaN  \n",
       "15       NaN  \n",
       "16       NaN  \n",
       "17       NaN  \n",
       "18       NaN  \n",
       "19       NaN  \n",
       "20       NaN  \n",
       "21       NaN  \n",
       "22       NaN  \n",
       "23       NaN  \n",
       "24       NaN  \n",
       "25       NaN  \n",
       "26       NaN  \n",
       "27       NaN  \n",
       "28       NaN  \n",
       "29       NaN  \n",
       "...      ...  \n",
       "8774     NaN  \n",
       "8775     NaN  \n",
       "8776     NaN  \n",
       "8777     NaN  \n",
       "8778     NaN  \n",
       "8779     NaN  \n",
       "8780     NaN  \n",
       "8781     NaN  \n",
       "8782     NaN  \n",
       "8783     NaN  \n",
       "8784     NaN  \n",
       "8785     NaN  \n",
       "8786     NaN  \n",
       "8787     NaN  \n",
       "8788     NaN  \n",
       "8789     NaN  \n",
       "8790     NaN  \n",
       "8791     NaN  \n",
       "8792     NaN  \n",
       "8793     NaN  \n",
       "8794     NaN  \n",
       "8795     NaN  \n",
       "8796     NaN  \n",
       "8797     NaN  \n",
       "8798     NaN  \n",
       "8799     NaN  \n",
       "8800     NaN  \n",
       "8801     NaN  \n",
       "8802     NaN  \n",
       "8803     NaN  \n",
       "\n",
       "[8804 rows x 32 columns]"
      ]
     },
     "execution_count": 3,
     "metadata": {},
     "output_type": "execute_result"
    }
   ],
   "source": [
    "df=pd.read_csv(\"data/report_anonymous_clean.csv\", sep=\";\", encoding = 'utf8')\n",
    "\n",
    "df['DATA_PRELIEVO'] = pd.to_datetime(df['DATA_PRELIEVO'])\n",
    "df['DATA_ULTIMA_MESTRUAZIONE'] = pd.to_datetime(df['DATA_ULTIMA_MESTRUAZIONE'])\n",
    "df['DATA_PAP_PRECEDENTE'] = pd.to_datetime(df['DATA_PAP_PRECEDENTE'])\n",
    "\n",
    "# drop cols 'Unnamed 0'\n",
    "df.drop(['Unnamed: 0'], axis=1, inplace=True)\n",
    "\n",
    "df"
   ]
  },
  {
   "cell_type": "code",
   "execution_count": 4,
   "metadata": {},
   "outputs": [
    {
     "name": "stdout",
     "output_type": "stream",
     "text": [
      "number of columns:  32\n",
      "Index(['ETA_PRELIEVO', 'DATA_PRELIEVO', 'DATA_ULTIMA_MESTRUAZIONE',\n",
      "       'DATA_PAP_PRECEDENTE', 'FORNICE', 'PORTIO', 'CAN_CERV', 'CAV_UT',\n",
      "       'PERDITE_ER', 'LEUCORREA', 'PRURITO', 'TER_RAD', 'TER_ORM',\n",
      "       'GRAVIDANZE', 'ABORTI', 'TEST_ESTR', 'TER_ANTIF', 'OP_GIN', 'MENOPAUSA',\n",
      "       'AMENORREA', 'POST_PARTUM', 'PRIMO_PAP', 'CITO_PREC', 'VIRALE_PREC',\n",
      "       'BATT_PREC', 'CONTROLLO', 'CTRL_ISTOLOGICO', 'VALIDITA_CAMPIONE',\n",
      "       'CAUSA_CAMPIONE_NON_VALIDO', 'BATT', 'CITO', 'VIRALE'],\n",
      "      dtype='object')\n"
     ]
    }
   ],
   "source": [
    "print('number of columns: ',len(df.columns))\n",
    "print(df.columns)"
   ]
  },
  {
   "cell_type": "markdown",
   "metadata": {},
   "source": [
    "## Simple variable analysis"
   ]
  },
  {
   "cell_type": "code",
   "execution_count": 5,
   "metadata": {},
   "outputs": [
    {
     "data": {
      "text/plain": [
       "count    8804.000000\n",
       "mean       42.579396\n",
       "std        12.502984\n",
       "min        12.000000\n",
       "25%        33.000000\n",
       "50%        42.000000\n",
       "75%        51.000000\n",
       "max        88.000000\n",
       "Name: ETA_PRELIEVO, dtype: float64"
      ]
     },
     "execution_count": 5,
     "metadata": {},
     "output_type": "execute_result"
    }
   ],
   "source": [
    "df['ETA_PRELIEVO'].describe()"
   ]
  },
  {
   "cell_type": "code",
   "execution_count": 6,
   "metadata": {
    "scrolled": true
   },
   "outputs": [
    {
     "name": "stdout",
     "output_type": "stream",
     "text": [
      "ETA_PRELIEVO\n",
      "12      1\n",
      "13      2\n",
      "14      1\n",
      "16      4\n",
      "17      4\n",
      "18     13\n",
      "19     32\n",
      "20     59\n",
      "21     83\n",
      "22    121\n",
      "23    111\n",
      "24    134\n",
      "25    142\n",
      "26    145\n",
      "27    170\n",
      "28    161\n",
      "29    203\n",
      "30    221\n",
      "31    219\n",
      "32    226\n",
      "33    237\n",
      "34    235\n",
      "35    265\n",
      "36    269\n",
      "37    258\n",
      "38    250\n",
      "39    235\n",
      "40    250\n",
      "41    229\n",
      "42    261\n",
      "     ... \n",
      "58    120\n",
      "59     90\n",
      "60     84\n",
      "61     86\n",
      "62     71\n",
      "63     79\n",
      "64     62\n",
      "65     49\n",
      "66     54\n",
      "67     51\n",
      "68     41\n",
      "69     43\n",
      "70     42\n",
      "71     37\n",
      "72     34\n",
      "73     26\n",
      "74     18\n",
      "75      9\n",
      "76     22\n",
      "77     19\n",
      "78      8\n",
      "79      4\n",
      "80      5\n",
      "81      2\n",
      "82      2\n",
      "83      3\n",
      "84      3\n",
      "85      4\n",
      "87      1\n",
      "88      1\n",
      "Name: ETA_PRELIEVO, Length: 75, dtype: int64\n"
     ]
    }
   ],
   "source": [
    "ETA_PRELIEVO = df.groupby('ETA_PRELIEVO')['ETA_PRELIEVO'].count()\n",
    "print(ETA_PRELIEVO)"
   ]
  },
  {
   "cell_type": "code",
   "execution_count": 7,
   "metadata": {},
   "outputs": [],
   "source": [
    "title_eta_prelievo = 'Numero di casi per età'"
   ]
  },
  {
   "cell_type": "code",
   "execution_count": 8,
   "metadata": {
    "scrolled": true
   },
   "outputs": [
    {
     "data": {
      "text/plain": [
       "<matplotlib.axes._subplots.AxesSubplot at 0x105af1b70>"
      ]
     },
     "execution_count": 8,
     "metadata": {},
     "output_type": "execute_result"
    },
    {
     "data": {
      "image/png": "[encoded data removed]",
      "text/plain": [
       "<Figure size 1440x360 with 1 Axes>"
      ]
     },
     "metadata": {},
     "output_type": "display_data"
    }
   ],
   "source": [
    "ETA_PRELIEVO.plot(kind='bar', title = title_eta_prelievo, figsize=(20,5), rot=0, legend=True, color='#2879b0', logy=True)"
   ]
  },
  {
   "cell_type": "code",
   "execution_count": 9,
   "metadata": {},
   "outputs": [
    {
     "data": {
      "text/plain": [
       "<matplotlib.axes._subplots.AxesSubplot at 0x1c1a873da0>"
      ]
     },
     "execution_count": 9,
     "metadata": {},
     "output_type": "execute_result"
    },
    {
     "data": {
      "image/png": "[encoded data removed]",
      "text/plain": [
       "<Figure size 216x720 with 1 Axes>"
      ]
     },
     "metadata": {},
     "output_type": "display_data"
    }
   ],
   "source": [
    "df.boxplot('ETA_PRELIEVO', figsize=(3,10), showmeans=True, rot=0)"
   ]
  },
  {
   "cell_type": "code",
   "execution_count": 10,
   "metadata": {},
   "outputs": [
    {
     "data": {
      "text/plain": [
       "count                    8802\n",
       "unique                     69\n",
       "top       2014-09-01 00:00:00\n",
       "freq                      220\n",
       "first     2007-11-01 00:00:00\n",
       "last      2018-04-01 00:00:00\n",
       "Name: DATA_PRELIEVO, dtype: object"
      ]
     },
     "execution_count": 10,
     "metadata": {},
     "output_type": "execute_result"
    }
   ],
   "source": [
    "df['DATA_PRELIEVO'].describe()"
   ]
  },
  {
   "cell_type": "code",
   "execution_count": 11,
   "metadata": {},
   "outputs": [
    {
     "name": "stdout",
     "output_type": "stream",
     "text": [
      "ANNO\n",
      "2007       3\n",
      "2010       1\n",
      "2012      13\n",
      "2013    1428\n",
      "2014    1972\n",
      "2015    1801\n",
      "2016    1702\n",
      "2017    1415\n",
      "2018     467\n",
      "Name: DATA_PRELIEVO, dtype: int64\n"
     ]
    }
   ],
   "source": [
    "DATA_PRELIEVO = df['DATA_PRELIEVO'].groupby([df[\"DATA_PRELIEVO\"].dt.year.rename('ANNO')]).count()\n",
    "DATA_PRELIEVO.index = DATA_PRELIEVO.index.astype('int64')\n",
    "print(DATA_PRELIEVO)"
   ]
  },
  {
   "cell_type": "code",
   "execution_count": 12,
   "metadata": {},
   "outputs": [],
   "source": [
    "title_data_prelievo = 'Numero di casi per anno'"
   ]
  },
  {
   "cell_type": "code",
   "execution_count": 13,
   "metadata": {},
   "outputs": [
    {
     "data": {
      "text/plain": [
       "<matplotlib.axes._subplots.AxesSubplot at 0x1c1aeef7b8>"
      ]
     },
     "execution_count": 13,
     "metadata": {},
     "output_type": "execute_result"
    },
    {
     "data": {
      "image/png": "[encoded data removed]",
      "text/plain": [
       "<Figure size 720x360 with 1 Axes>"
      ]
     },
     "metadata": {},
     "output_type": "display_data"
    }
   ],
   "source": [
    "\n",
    "DATA_PRELIEVO.plot(kind='bar', title=title_data_prelievo,\\\n",
    "                   figsize=(10,5), rot=0, legend=True, color='#2879b0', logy=True)"
   ]
  },
  {
   "cell_type": "code",
   "execution_count": 14,
   "metadata": {},
   "outputs": [
    {
     "data": {
      "text/plain": [
       "<matplotlib.axes._subplots.AxesSubplot at 0x1c1a68c828>"
      ]
     },
     "execution_count": 14,
     "metadata": {},
     "output_type": "execute_result"
    },
    {
     "data": {
      "image/png": "[encoded data removed]",
      "text/plain": [
       "<Figure size 720x360 with 1 Axes>"
      ]
     },
     "metadata": {},
     "output_type": "display_data"
    }
   ],
   "source": [
    "DATA_PRELIEVO.plot(kind='line', title= title_data_prelievo,\\\n",
    "                   figsize=(10,5), rot=0, legend=True, color='#2879b0', logy=True)"
   ]
  },
  {
   "cell_type": "code",
   "execution_count": 15,
   "metadata": {},
   "outputs": [
    {
     "data": {
      "text/plain": [
       "ANNO\n",
       "2014    1972\n",
       "2015    1801\n",
       "2016    1702\n",
       "2013    1428\n",
       "2017    1415\n",
       "2018     467\n",
       "Name: DATA_PRELIEVO, dtype: int64"
      ]
     },
     "execution_count": 15,
     "metadata": {},
     "output_type": "execute_result"
    }
   ],
   "source": [
    "DATA_PRELIEVO_PIE = DATA_PRELIEVO.sort_values(ascending=False)[:6]\n",
    "DATA_PRELIEVO_PIE"
   ]
  },
  {
   "cell_type": "code",
   "execution_count": 16,
   "metadata": {
    "scrolled": false
   },
   "outputs": [
    {
     "data": {
      "text/plain": [
       "<matplotlib.axes._subplots.AxesSubplot at 0x1c1b3fe9b0>"
      ]
     },
     "execution_count": 16,
     "metadata": {},
     "output_type": "execute_result"
    },
    {
     "data": {
      "image/png": "[encoded data removed]",
      "text/plain": [
       "<Figure size 720x720 with 1 Axes>"
      ]
     },
     "metadata": {},
     "output_type": "display_data"
    }
   ],
   "source": [
    "DATA_PRELIEVO_PIE.plot(kind='pie', figsize=(10,10), legend=True,\\\n",
    "                   explode = explode[:len(DATA_PRELIEVO_PIE)],\\\n",
    "                   title = title_data_prelievo,\\\n",
    "                   autopct='%1.2f%%', startangle=0)"
   ]
  },
  {
   "cell_type": "code",
   "execution_count": 17,
   "metadata": {},
   "outputs": [
    {
     "name": "stdout",
     "output_type": "stream",
     "text": [
      "2007  11      3\n",
      "2010  4       1\n",
      "2012  3       1\n",
      "      11      2\n",
      "      12     10\n",
      "2013  1      30\n",
      "      2      28\n",
      "      3       3\n",
      "      4     114\n",
      "      5     189\n",
      "      6     159\n",
      "      7     146\n",
      "      8      98\n",
      "      9     152\n",
      "      10    195\n",
      "      11    156\n",
      "      12    158\n",
      "2014  1     136\n",
      "      2     164\n",
      "      3     196\n",
      "      4     171\n",
      "      5     180\n",
      "      6     142\n",
      "      7     155\n",
      "      8     114\n",
      "      9     220\n",
      "      10    183\n",
      "      11    166\n",
      "      12    145\n",
      "2015  1     144\n",
      "           ... \n",
      "      11    143\n",
      "      12    101\n",
      "2016  1     138\n",
      "      2     135\n",
      "      3     155\n",
      "      4     148\n",
      "      5     217\n",
      "      6     155\n",
      "      7     108\n",
      "      8      89\n",
      "      9     177\n",
      "      10    159\n",
      "      11    140\n",
      "      12     81\n",
      "2017  1      71\n",
      "      2     112\n",
      "      3     139\n",
      "      4      90\n",
      "      5     128\n",
      "      6      84\n",
      "      7     128\n",
      "      8     123\n",
      "      9     133\n",
      "      10    183\n",
      "      11    142\n",
      "      12     82\n",
      "2018  1     156\n",
      "      2     131\n",
      "      3     163\n",
      "      4      17\n",
      "Name: DATA_PRELIEVO, Length: 69, dtype: int64\n"
     ]
    }
   ],
   "source": [
    "DATA_PRELIEVO_YM = df['DATA_PRELIEVO']\\\n",
    "                        .groupby([df[\"DATA_PRELIEVO\"].dt.year.rename('ANNO'), df[\"DATA_PRELIEVO\"].dt.month.rename('MESE')])\\\n",
    "                        .count()\n",
    "\n",
    "DATA_PRELIEVO_YM.index = pd.MultiIndex.from_tuples([(int(ix[0]), int(ix[1])) for ix in DATA_PRELIEVO_YM.index.tolist()])\n",
    "\n",
    "print(DATA_PRELIEVO_YM)"
   ]
  },
  {
   "cell_type": "code",
   "execution_count": 18,
   "metadata": {},
   "outputs": [
    {
     "data": {
      "text/plain": [
       "<matplotlib.axes._subplots.AxesSubplot at 0x1c1b57ef98>"
      ]
     },
     "execution_count": 18,
     "metadata": {},
     "output_type": "execute_result"
    },
    {
     "data": {
      "image/png": "[encoded data removed]",
      "text/plain": [
       "<Figure size 1296x360 with 1 Axes>"
      ]
     },
     "metadata": {},
     "output_type": "display_data"
    }
   ],
   "source": [
    "DATA_PRELIEVO_YM.plot(kind='bar', title = title_data_prelievo+'/mese', figsize=(18,5), rot=90,\\\n",
    "                      legend=True, color='#2879b0', logy=True)"
   ]
  },
  {
   "cell_type": "code",
   "execution_count": 19,
   "metadata": {},
   "outputs": [
    {
     "data": {
      "text/plain": [
       "count    2872.000000\n",
       "mean        1.755919\n",
       "std         0.722312\n",
       "min         0.000000\n",
       "25%         1.000000\n",
       "50%         2.000000\n",
       "75%         2.000000\n",
       "max         8.000000\n",
       "Name: GRAVIDANZE, dtype: float64"
      ]
     },
     "execution_count": 19,
     "metadata": {},
     "output_type": "execute_result"
    }
   ],
   "source": [
    "df['GRAVIDANZE'].describe()"
   ]
  },
  {
   "cell_type": "code",
   "execution_count": 20,
   "metadata": {},
   "outputs": [
    {
     "name": "stdout",
     "output_type": "stream",
     "text": [
      "GRAVIDANZE\n",
      "0       2\n",
      "1    1076\n",
      "2    1484\n",
      "3     262\n",
      "4      36\n",
      "5       6\n",
      "6       4\n",
      "7       1\n",
      "8       1\n",
      "Name: GRAVIDANZE, dtype: int64\n"
     ]
    }
   ],
   "source": [
    "GRAVIDANZE = df.groupby('GRAVIDANZE')['GRAVIDANZE'].count()\n",
    "GRAVIDANZE.index = GRAVIDANZE.index.astype('int64')\n",
    "print(GRAVIDANZE)"
   ]
  },
  {
   "cell_type": "code",
   "execution_count": 21,
   "metadata": {},
   "outputs": [
    {
     "data": {
      "text/plain": [
       "<matplotlib.axes._subplots.AxesSubplot at 0x1c1b8af4e0>"
      ]
     },
     "execution_count": 21,
     "metadata": {},
     "output_type": "execute_result"
    },
    {
     "data": {
      "image/png": "[encoded data removed]",
      "text/plain": [
       "<Figure size 720x360 with 1 Axes>"
      ]
     },
     "metadata": {},
     "output_type": "display_data"
    }
   ],
   "source": [
    "title_gravidanze = 'Numero di gravidanze'\n",
    "GRAVIDANZE.plot(kind='bar', figsize=(10,5), title = title_gravidanze, rot=0, legend=True, color='#2879b0', logy=True)"
   ]
  },
  {
   "cell_type": "code",
   "execution_count": 22,
   "metadata": {},
   "outputs": [
    {
     "data": {
      "text/plain": [
       "<matplotlib.axes._subplots.AxesSubplot at 0x1c1b763860>"
      ]
     },
     "execution_count": 22,
     "metadata": {},
     "output_type": "execute_result"
    },
    {
     "data": {
      "image/png": "[encoded data removed]",
      "text/plain": [
       "<Figure size 216x720 with 1 Axes>"
      ]
     },
     "metadata": {},
     "output_type": "display_data"
    }
   ],
   "source": [
    "df.boxplot('GRAVIDANZE', figsize=(3,10), showmeans=True, rot=0)"
   ]
  },
  {
   "cell_type": "code",
   "execution_count": 23,
   "metadata": {},
   "outputs": [
    {
     "data": {
      "text/plain": [
       "GRAVIDANZE\n",
       "2    1484\n",
       "1    1076\n",
       "3     262\n",
       "4      36\n",
       "Name: GRAVIDANZE, dtype: int64"
      ]
     },
     "execution_count": 23,
     "metadata": {},
     "output_type": "execute_result"
    }
   ],
   "source": [
    "GRAVIDANZE_PIE = GRAVIDANZE.sort_values(ascending=False)[:4]\n",
    "GRAVIDANZE_PIE"
   ]
  },
  {
   "cell_type": "code",
   "execution_count": 24,
   "metadata": {
    "scrolled": false
   },
   "outputs": [
    {
     "data": {
      "text/plain": [
       "<matplotlib.axes._subplots.AxesSubplot at 0x1c1bcaf2b0>"
      ]
     },
     "execution_count": 24,
     "metadata": {},
     "output_type": "execute_result"
    },
    {
     "data": {
      "image/png": "[encoded data removed]",
      "text/plain": [
       "<Figure size 720x720 with 1 Axes>"
      ]
     },
     "metadata": {},
     "output_type": "display_data"
    }
   ],
   "source": [
    "GRAVIDANZE_PIE.plot(kind='pie', figsize=(10,10), legend=True,\\\n",
    "                    explode = explode[:len(GRAVIDANZE_PIE)],\\\n",
    "                    title = title_gravidanze,\\\n",
    "                    autopct='%1.2f%%', startangle=0)"
   ]
  },
  {
   "cell_type": "code",
   "execution_count": 25,
   "metadata": {},
   "outputs": [
    {
     "data": {
      "text/plain": [
       "count    813.000000\n",
       "mean       1.399754\n",
       "std        0.808727\n",
       "min        1.000000\n",
       "25%        1.000000\n",
       "50%        1.000000\n",
       "75%        2.000000\n",
       "max        8.000000\n",
       "Name: ABORTI, dtype: float64"
      ]
     },
     "execution_count": 25,
     "metadata": {},
     "output_type": "execute_result"
    }
   ],
   "source": [
    "df['ABORTI'].describe()"
   ]
  },
  {
   "cell_type": "code",
   "execution_count": 26,
   "metadata": {},
   "outputs": [
    {
     "name": "stdout",
     "output_type": "stream",
     "text": [
      "ABORTI\n",
      "1    595\n",
      "2    151\n",
      "3     42\n",
      "4     13\n",
      "5     11\n",
      "8      1\n",
      "Name: ABORTI, dtype: int64\n"
     ]
    }
   ],
   "source": [
    "ABORTI = df.groupby('ABORTI')['ABORTI'].count()\n",
    "ABORTI.index = ABORTI.index.astype('int64')\n",
    "print(ABORTI)"
   ]
  },
  {
   "cell_type": "code",
   "execution_count": 27,
   "metadata": {},
   "outputs": [
    {
     "data": {
      "text/plain": [
       "<matplotlib.axes._subplots.AxesSubplot at 0x1c1bd682e8>"
      ]
     },
     "execution_count": 27,
     "metadata": {},
     "output_type": "execute_result"
    },
    {
     "data": {
      "image/png": "[encoded data removed]",
      "text/plain": [
       "<Figure size 720x360 with 1 Axes>"
      ]
     },
     "metadata": {},
     "output_type": "display_data"
    }
   ],
   "source": [
    "title_aborti = 'Numero di aborti'\n",
    "ABORTI.plot(kind='bar', title = title_aborti, figsize=(10,5), rot=0, legend=True, color='#2879b0', logy=True)"
   ]
  },
  {
   "cell_type": "code",
   "execution_count": 28,
   "metadata": {},
   "outputs": [
    {
     "data": {
      "text/plain": [
       "<matplotlib.axes._subplots.AxesSubplot at 0x1c1bfdb470>"
      ]
     },
     "execution_count": 28,
     "metadata": {},
     "output_type": "execute_result"
    },
    {
     "data": {
      "image/png": "[encoded data removed]",
      "text/plain": [
       "<Figure size 216x720 with 1 Axes>"
      ]
     },
     "metadata": {},
     "output_type": "display_data"
    }
   ],
   "source": [
    "df.boxplot('ABORTI', figsize=(3,10), showmeans=True, rot=0)"
   ]
  },
  {
   "cell_type": "code",
   "execution_count": 29,
   "metadata": {},
   "outputs": [
    {
     "data": {
      "text/plain": [
       "ABORTI\n",
       "1    595\n",
       "2    151\n",
       "3     42\n",
       "4     13\n",
       "5     11\n",
       "Name: ABORTI, dtype: int64"
      ]
     },
     "execution_count": 29,
     "metadata": {},
     "output_type": "execute_result"
    }
   ],
   "source": [
    "ABORTI_PIE = ABORTI.sort_values(ascending=False)[:5]\n",
    "ABORTI_PIE"
   ]
  },
  {
   "cell_type": "code",
   "execution_count": 30,
   "metadata": {},
   "outputs": [
    {
     "data": {
      "text/plain": [
       "<matplotlib.axes._subplots.AxesSubplot at 0x1c1c0f40b8>"
      ]
     },
     "execution_count": 30,
     "metadata": {},
     "output_type": "execute_result"
    },
    {
     "data": {
      "image/png": "[encoded data removed]",
      "text/plain": [
       "<Figure size 720x720 with 1 Axes>"
      ]
     },
     "metadata": {},
     "output_type": "display_data"
    }
   ],
   "source": [
    "ABORTI_PIE.plot(kind='pie', figsize=(10,10), legend=True,\\\n",
    "                explode = explode[:len(ABORTI_PIE)],\\\n",
    "                title = title_aborti,\\\n",
    "                autopct='%1.2f%%', startangle=0)"
   ]
  },
  {
   "cell_type": "code",
   "execution_count": 31,
   "metadata": {},
   "outputs": [
    {
     "data": {
      "text/plain": [
       "count     8804\n",
       "unique       2\n",
       "top       True\n",
       "freq      6572\n",
       "Name: PRIMO_PAP, dtype: object"
      ]
     },
     "execution_count": 31,
     "metadata": {},
     "output_type": "execute_result"
    }
   ],
   "source": [
    "df['PRIMO_PAP'].describe()"
   ]
  },
  {
   "cell_type": "code",
   "execution_count": 32,
   "metadata": {},
   "outputs": [
    {
     "name": "stdout",
     "output_type": "stream",
     "text": [
      "PRIMO_PAP\n",
      "False    2232\n",
      "True     6572\n",
      "Name: PRIMO_PAP, dtype: int64\n"
     ]
    }
   ],
   "source": [
    "PRIMO_PAP = df.groupby('PRIMO_PAP')['PRIMO_PAP'].count()\n",
    "print(PRIMO_PAP)"
   ]
  },
  {
   "cell_type": "code",
   "execution_count": 33,
   "metadata": {},
   "outputs": [
    {
     "data": {
      "text/plain": [
       "<matplotlib.axes._subplots.AxesSubplot at 0x1c1c1b6588>"
      ]
     },
     "execution_count": 33,
     "metadata": {},
     "output_type": "execute_result"
    },
    {
     "data": {
      "image/png": "[encoded data removed]",
      "text/plain": [
       "<Figure size 720x360 with 1 Axes>"
      ]
     },
     "metadata": {},
     "output_type": "display_data"
    }
   ],
   "source": [
    "title_primo_pap = 'Primo pap test?'\n",
    "PRIMO_PAP.plot(kind='bar', title = title_primo_pap, figsize=(10,5), rot=0, legend=True, color='#2879b0')"
   ]
  },
  {
   "cell_type": "code",
   "execution_count": 34,
   "metadata": {},
   "outputs": [
    {
     "data": {
      "text/plain": [
       "<matplotlib.axes._subplots.AxesSubplot at 0x1c1c3580f0>"
      ]
     },
     "execution_count": 34,
     "metadata": {},
     "output_type": "execute_result"
    },
    {
     "data": {
      "image/png": "[encoded data removed]",
      "text/plain": [
       "<Figure size 720x720 with 1 Axes>"
      ]
     },
     "metadata": {},
     "output_type": "display_data"
    }
   ],
   "source": [
    "PRIMO_PAP.plot(kind='pie', figsize=(10,10), legend=True,\\\n",
    "               explode = explode[:len(PRIMO_PAP)],\\\n",
    "               title = title_primo_pap,\n",
    "               autopct='%1.2f%%', startangle=0)"
   ]
  },
  {
   "cell_type": "code",
   "execution_count": 35,
   "metadata": {},
   "outputs": [
    {
     "data": {
      "text/plain": [
       "count    8208.000000\n",
       "mean       11.906433\n",
       "std         0.747861\n",
       "min         3.000000\n",
       "25%        12.000000\n",
       "50%        12.000000\n",
       "75%        12.000000\n",
       "max        12.000000\n",
       "Name: CONTROLLO, dtype: float64"
      ]
     },
     "execution_count": 35,
     "metadata": {},
     "output_type": "execute_result"
    }
   ],
   "source": [
    "df['CONTROLLO'].describe()"
   ]
  },
  {
   "cell_type": "code",
   "execution_count": 36,
   "metadata": {},
   "outputs": [
    {
     "name": "stdout",
     "output_type": "stream",
     "text": [
      "CONTROLLO\n",
      "3        2\n",
      "6      125\n",
      "12    8081\n",
      "Name: CONTROLLO, dtype: int64\n"
     ]
    }
   ],
   "source": [
    "title_controllo = 'Incidenza di periodi di controllo'\n",
    "CONTROLLO = df.groupby('CONTROLLO')['CONTROLLO'].count()\n",
    "CONTROLLO.index = CONTROLLO.index.astype('int64')\n",
    "print(CONTROLLO)"
   ]
  },
  {
   "cell_type": "code",
   "execution_count": 37,
   "metadata": {},
   "outputs": [
    {
     "data": {
      "text/plain": [
       "<matplotlib.axes._subplots.AxesSubplot at 0x1c1c56af60>"
      ]
     },
     "execution_count": 37,
     "metadata": {},
     "output_type": "execute_result"
    },
    {
     "data": {
      "image/png": "[encoded data removed]",
      "text/plain": [
       "<Figure size 720x360 with 1 Axes>"
      ]
     },
     "metadata": {},
     "output_type": "display_data"
    }
   ],
   "source": [
    "CONTROLLO.plot(kind='bar', title = title_controllo, figsize=(10,5), rot=0, legend=True, color='#2879b0', logy=True)"
   ]
  },
  {
   "cell_type": "code",
   "execution_count": 38,
   "metadata": {},
   "outputs": [
    {
     "data": {
      "text/plain": [
       "<matplotlib.axes._subplots.AxesSubplot at 0x1c1c7c04e0>"
      ]
     },
     "execution_count": 38,
     "metadata": {},
     "output_type": "execute_result"
    },
    {
     "data": {
      "image/png": "[encoded data removed]",
      "text/plain": [
       "<Figure size 720x720 with 1 Axes>"
      ]
     },
     "metadata": {},
     "output_type": "display_data"
    }
   ],
   "source": [
    "CONTROLLO.sort_values(ascending=False)\n",
    "CONTROLLO.plot(kind='pie', figsize=(10,10), legend=True,\\\n",
    "               explode = explode[:len(CONTROLLO)],\\\n",
    "               title = title_controllo,\\\n",
    "               autopct='%1.2f%%', startangle=0)"
   ]
  },
  {
   "cell_type": "code",
   "execution_count": 39,
   "metadata": {},
   "outputs": [
    {
     "data": {
      "text/plain": [
       "count         8654\n",
       "unique           3\n",
       "top       ADEGUATO\n",
       "freq          8624\n",
       "Name: VALIDITA_CAMPIONE, dtype: object"
      ]
     },
     "execution_count": 39,
     "metadata": {},
     "output_type": "execute_result"
    }
   ],
   "source": [
    "df['VALIDITA_CAMPIONE'].describe()"
   ]
  },
  {
   "cell_type": "code",
   "execution_count": 40,
   "metadata": {},
   "outputs": [
    {
     "name": "stdout",
     "output_type": "stream",
     "text": [
      "VALIDITA_CAMPIONE\n",
      "ADEGUATO       8624\n",
      "INADEGUATO       28\n",
      "SUBOTTIMALE       2\n",
      "Name: VALIDITA_CAMPIONE, dtype: int64\n"
     ]
    }
   ],
   "source": [
    "VALIDITA_CAMPIONE = df.groupby('VALIDITA_CAMPIONE')['VALIDITA_CAMPIONE'].count()\n",
    "print(VALIDITA_CAMPIONE)"
   ]
  },
  {
   "cell_type": "code",
   "execution_count": 41,
   "metadata": {},
   "outputs": [
    {
     "data": {
      "text/plain": [
       "<matplotlib.axes._subplots.AxesSubplot at 0x1c1c7a55f8>"
      ]
     },
     "execution_count": 41,
     "metadata": {},
     "output_type": "execute_result"
    },
    {
     "data": {
      "image/png": "[encoded data removed]",
      "text/plain": [
       "<Figure size 720x360 with 1 Axes>"
      ]
     },
     "metadata": {},
     "output_type": "display_data"
    }
   ],
   "source": [
    "title_validita_campione = 'Validità campione'\n",
    "VALIDITA_CAMPIONE.plot(kind='bar', title = title_validita_campione, figsize=(10,5), rot=0, legend=True, color='#2879b0', logy=True)"
   ]
  },
  {
   "cell_type": "code",
   "execution_count": 42,
   "metadata": {},
   "outputs": [
    {
     "data": {
      "text/plain": [
       "count       1015\n",
       "unique         9\n",
       "top       COCCHI\n",
       "freq         325\n",
       "Name: BATT, dtype: object"
      ]
     },
     "execution_count": 42,
     "metadata": {},
     "output_type": "execute_result"
    }
   ],
   "source": [
    "df['BATT'].describe()"
   ]
  },
  {
   "cell_type": "code",
   "execution_count": 43,
   "metadata": {},
   "outputs": [
    {
     "name": "stdout",
     "output_type": "stream",
     "text": [
      "BATT\n",
      "ACTINOMYCES     13\n",
      "CANDIDA        229\n",
      "CLAMYDIA         1\n",
      "COCCHI         325\n",
      "DODERLEIN      228\n",
      "FLOGOSI         85\n",
      "GARDNERELLA      9\n",
      "TRICHOMONAS      6\n",
      "VAGINOSI       119\n",
      "Name: BATT, dtype: int64\n"
     ]
    }
   ],
   "source": [
    "BATT = df.groupby('BATT')['BATT'].count()\n",
    "print(BATT)"
   ]
  },
  {
   "cell_type": "code",
   "execution_count": 44,
   "metadata": {},
   "outputs": [
    {
     "data": {
      "text/plain": [
       "<matplotlib.axes._subplots.AxesSubplot at 0x1c1c7ee3c8>"
      ]
     },
     "execution_count": 44,
     "metadata": {},
     "output_type": "execute_result"
    },
    {
     "data": {
      "image/png": "[encoded data removed]",
      "text/plain": [
       "<Figure size 648x360 with 1 Axes>"
      ]
     },
     "metadata": {},
     "output_type": "display_data"
    }
   ],
   "source": [
    "title_batt = 'Incidenza di infezioni batteriche'\n",
    "BATT.plot(kind='bar', figsize=(9,5), title = title_batt, rot=45, legend=True, color='#2879b0', logy=True)"
   ]
  },
  {
   "cell_type": "code",
   "execution_count": 45,
   "metadata": {},
   "outputs": [
    {
     "data": {
      "text/plain": [
       "<matplotlib.axes._subplots.AxesSubplot at 0x1c1cd0fe48>"
      ]
     },
     "execution_count": 45,
     "metadata": {},
     "output_type": "execute_result"
    },
    {
     "data": {
      "image/png": "[encoded data removed]",
      "text/plain": [
       "<Figure size 720x720 with 1 Axes>"
      ]
     },
     "metadata": {},
     "output_type": "display_data"
    }
   ],
   "source": [
    "BATT = BATT.sort_values(ascending=False)\n",
    "\n",
    "BATT.plot(kind='pie', figsize=(10,10), legend=True,\\\n",
    "          explode = explode[:len(BATT)],\\\n",
    "          title = title_batt,\\\n",
    "          autopct='%1.2f%%', startangle=10)"
   ]
  },
  {
   "cell_type": "code",
   "execution_count": 46,
   "metadata": {},
   "outputs": [
    {
     "data": {
      "text/plain": [
       "count         8711\n",
       "unique           9\n",
       "top       NEGATIVO\n",
       "freq          8447\n",
       "Name: CITO, dtype: object"
      ]
     },
     "execution_count": 46,
     "metadata": {},
     "output_type": "execute_result"
    }
   ],
   "source": [
    "df['CITO'].describe()"
   ]
  },
  {
   "cell_type": "code",
   "execution_count": 47,
   "metadata": {},
   "outputs": [
    {
     "name": "stdout",
     "output_type": "stream",
     "text": [
      "CITO\n",
      "AGC-NEOPLASTIC       2\n",
      "AGC-NOS              6\n",
      "AIS                  1\n",
      "ASC-H                2\n",
      "ASCUS              129\n",
      "HSIL                17\n",
      "LSIL               106\n",
      "NEGATIVO          8447\n",
      "SCC                  1\n",
      "Name: CITO, dtype: int64\n"
     ]
    }
   ],
   "source": [
    "CITO = df.groupby('CITO')['CITO'].count()\n",
    "print(CITO)"
   ]
  },
  {
   "cell_type": "code",
   "execution_count": 48,
   "metadata": {},
   "outputs": [
    {
     "data": {
      "text/plain": [
       "<matplotlib.axes._subplots.AxesSubplot at 0x1c1cd871d0>"
      ]
     },
     "execution_count": 48,
     "metadata": {},
     "output_type": "execute_result"
    },
    {
     "data": {
      "image/png": "[encoded data removed]",
      "text/plain": [
       "<Figure size 720x360 with 1 Axes>"
      ]
     },
     "metadata": {},
     "output_type": "display_data"
    }
   ],
   "source": [
    "title_cito = 'Incidenza dei risultati ciptopatologici'\n",
    "CITO.plot(kind='bar', title = title_cito, figsize=(10,5), rot=45, legend=True, color='#2879b0', logy=True)"
   ]
  },
  {
   "cell_type": "code",
   "execution_count": 49,
   "metadata": {},
   "outputs": [
    {
     "data": {
      "text/plain": [
       "CITO\n",
       "NEGATIVO    8447\n",
       "ASCUS        129\n",
       "LSIL         106\n",
       "HSIL          17\n",
       "Name: CITO, dtype: int64"
      ]
     },
     "execution_count": 49,
     "metadata": {},
     "output_type": "execute_result"
    }
   ],
   "source": [
    "CITO_PIE = CITO.sort_values(ascending=False)[:4]\n",
    "CITO_PIE"
   ]
  },
  {
   "cell_type": "code",
   "execution_count": 50,
   "metadata": {},
   "outputs": [
    {
     "data": {
      "text/plain": [
       "<matplotlib.axes._subplots.AxesSubplot at 0x1c1cfd5eb8>"
      ]
     },
     "execution_count": 50,
     "metadata": {},
     "output_type": "execute_result"
    },
    {
     "data": {
      "image/png": "[encoded data removed]",
      "text/plain": [
       "<Figure size 720x720 with 1 Axes>"
      ]
     },
     "metadata": {},
     "output_type": "display_data"
    }
   ],
   "source": [
    "CITO_PIE.plot(kind='pie', figsize=(10,10), legend=True,\\\n",
    "              explode = explode[:len(CITO_PIE)],\\\n",
    "              title = title_cito,\\\n",
    "              autopct='%1.2f%%', startangle=0)"
   ]
  },
  {
   "cell_type": "code",
   "execution_count": 51,
   "metadata": {},
   "outputs": [
    {
     "name": "stdout",
     "output_type": "stream",
     "text": [
      "number of columns:  32\n",
      "Index(['ETA_PRELIEVO', 'DATA_PRELIEVO', 'DATA_ULTIMA_MESTRUAZIONE',\n",
      "       'DATA_PAP_PRECEDENTE', 'FORNICE', 'PORTIO', 'CAN_CERV', 'CAV_UT',\n",
      "       'PERDITE_ER', 'LEUCORREA', 'PRURITO', 'TER_RAD', 'TER_ORM',\n",
      "       'GRAVIDANZE', 'ABORTI', 'TEST_ESTR', 'TER_ANTIF', 'OP_GIN', 'MENOPAUSA',\n",
      "       'AMENORREA', 'POST_PARTUM', 'PRIMO_PAP', 'CITO_PREC', 'VIRALE_PREC',\n",
      "       'BATT_PREC', 'CONTROLLO', 'CTRL_ISTOLOGICO', 'VALIDITA_CAMPIONE',\n",
      "       'CAUSA_CAMPIONE_NON_VALIDO', 'BATT', 'CITO', 'VIRALE'],\n",
      "      dtype='object')\n"
     ]
    }
   ],
   "source": [
    "print('number of columns: ',len(df.columns))\n",
    "print(df.columns)"
   ]
  },
  {
   "cell_type": "code",
   "execution_count": 52,
   "metadata": {},
   "outputs": [
    {
     "name": "stdout",
     "output_type": "stream",
     "text": [
      "PERDITE_ER     12\n",
      "LEUCORREA     147\n",
      "PRURITO         2\n",
      "Name: SINTOMI, dtype: int64\n"
     ]
    }
   ],
   "source": [
    "N_PERDITE_ER = len(df[df['PERDITE_ER'] == True])\n",
    "N_LEUCORREA = len(df[df['LEUCORREA'] == True])\n",
    "N_PRURITO = len(df[df['PRURITO'] == True])\n",
    "\n",
    "SINTOMI = pd.Series({'PERDITE_ER':N_PERDITE_ER,'LEUCORREA':N_LEUCORREA,'PRURITO':N_PRURITO})\n",
    "SINTOMI.rename('SINTOMI', inplace=True)\n",
    "print(SINTOMI)"
   ]
  },
  {
   "cell_type": "code",
   "execution_count": 53,
   "metadata": {},
   "outputs": [
    {
     "data": {
      "text/plain": [
       "<matplotlib.axes._subplots.AxesSubplot at 0x1c1d12a1d0>"
      ]
     },
     "execution_count": 53,
     "metadata": {},
     "output_type": "execute_result"
    },
    {
     "data": {
      "image/png": "[encoded data removed]",
      "text/plain": [
       "<Figure size 720x360 with 1 Axes>"
      ]
     },
     "metadata": {},
     "output_type": "display_data"
    }
   ],
   "source": [
    "title_sintomi = 'Incidenza di sintomi pre-pap test'\n",
    "SINTOMI.plot(kind='bar', figsize=(10,5), title = title_sintomi, legend = True, rot=0, color='#2879b0')"
   ]
  },
  {
   "cell_type": "code",
   "execution_count": 54,
   "metadata": {},
   "outputs": [
    {
     "data": {
      "text/plain": [
       "<matplotlib.axes._subplots.AxesSubplot at 0x1c1d2c1f28>"
      ]
     },
     "execution_count": 54,
     "metadata": {},
     "output_type": "execute_result"
    },
    {
     "data": {
      "image/png": "[encoded data removed]",
      "text/plain": [
       "<Figure size 720x720 with 1 Axes>"
      ]
     },
     "metadata": {},
     "output_type": "display_data"
    }
   ],
   "source": [
    "SINTOMI.plot(kind='pie', figsize=(10,10), legend=True,\\\n",
    "             explode = explode[:len(SINTOMI)],\\\n",
    "             title = title_sintomi,\\\n",
    "             autopct='%1.2f%%', startangle=0)"
   ]
  },
  {
   "cell_type": "code",
   "execution_count": 55,
   "metadata": {},
   "outputs": [
    {
     "name": "stdout",
     "output_type": "stream",
     "text": [
      "MENOPAUSA      1116\n",
      "AMENORREA        39\n",
      "POST_PARTUM     118\n",
      "Name: STATI_FISIOLOGICI, dtype: int64\n"
     ]
    }
   ],
   "source": [
    "N_MENOPAUSA = len(df[df['MENOPAUSA'] == True])\n",
    "N_AMENORREA = len(df[df['AMENORREA'] == True])\n",
    "N_POST_PARTUM = len(df[df['POST_PARTUM'] == True])\n",
    "\n",
    "STATI_FISIOLOGICI = pd.Series({'MENOPAUSA':N_MENOPAUSA,'AMENORREA':N_AMENORREA,'POST_PARTUM':N_POST_PARTUM})\n",
    "STATI_FISIOLOGICI.rename('STATI_FISIOLOGICI', inplace=True)\n",
    "print(STATI_FISIOLOGICI)"
   ]
  },
  {
   "cell_type": "code",
   "execution_count": 56,
   "metadata": {},
   "outputs": [
    {
     "data": {
      "text/plain": [
       "<matplotlib.axes._subplots.AxesSubplot at 0x1c1d416278>"
      ]
     },
     "execution_count": 56,
     "metadata": {},
     "output_type": "execute_result"
    },
    {
     "data": {
      "image/png": "[encoded data removed]",
      "text/plain": [
       "<Figure size 720x360 with 1 Axes>"
      ]
     },
     "metadata": {},
     "output_type": "display_data"
    }
   ],
   "source": [
    "title_stati_fisiologici = 'Incidenza stati fisiologici'\n",
    "STATI_FISIOLOGICI.plot(kind='bar', title = title_stati_fisiologici,\\\n",
    "                       legend = True, figsize=(10,5), rot=0, color='#2879b0')"
   ]
  },
  {
   "cell_type": "code",
   "execution_count": 57,
   "metadata": {},
   "outputs": [
    {
     "data": {
      "text/plain": [
       "<matplotlib.axes._subplots.AxesSubplot at 0x1c1d5c5278>"
      ]
     },
     "execution_count": 57,
     "metadata": {},
     "output_type": "execute_result"
    },
    {
     "data": {
      "image/png": "[encoded data removed]",
      "text/plain": [
       "<Figure size 720x720 with 1 Axes>"
      ]
     },
     "metadata": {},
     "output_type": "display_data"
    }
   ],
   "source": [
    "STATI_FISIOLOGICI.plot(kind='pie', figsize=(10,10), legend=True,\\\n",
    "                       explode = explode[:len(STATI_FISIOLOGICI)],\\\n",
    "                       title = title_stati_fisiologici,\\\n",
    "                       autopct='%1.2f%%', startangle=0)"
   ]
  },
  {
   "cell_type": "code",
   "execution_count": 58,
   "metadata": {},
   "outputs": [
    {
     "name": "stdout",
     "output_type": "stream",
     "text": [
      "FORNICE        4\n",
      "PORTIO      8548\n",
      "CAN_CERV    8537\n",
      "CAV_UT       134\n",
      "Name: TIPO_PRELIEVO, dtype: int64\n"
     ]
    }
   ],
   "source": [
    "N_FORNICE = len(df[df['FORNICE'] == True])\n",
    "N_PORTIO = len(df[df['PORTIO'] == True])\n",
    "N_CAN_CERV = len(df[df['CAN_CERV'] == True])\n",
    "N_CAV_UT = len(df[df['CAV_UT'] == True])\n",
    "\n",
    "TIPO_PRELIEVO = pd.Series({'FORNICE':N_FORNICE,'PORTIO':N_PORTIO,'CAN_CERV':N_CAN_CERV, 'CAV_UT': N_CAV_UT})\n",
    "TIPO_PRELIEVO.rename('TIPO_PRELIEVO', inplace=True)\n",
    "print(TIPO_PRELIEVO)"
   ]
  },
  {
   "cell_type": "code",
   "execution_count": 59,
   "metadata": {},
   "outputs": [
    {
     "data": {
      "text/plain": [
       "<matplotlib.axes._subplots.AxesSubplot at 0x1c1d6d82b0>"
      ]
     },
     "execution_count": 59,
     "metadata": {},
     "output_type": "execute_result"
    },
    {
     "data": {
      "image/png": "[encoded data removed]",
      "text/plain": [
       "<Figure size 720x360 with 1 Axes>"
      ]
     },
     "metadata": {},
     "output_type": "display_data"
    }
   ],
   "source": [
    "title_tipo_prelievo = 'Tipi di prelievo'\n",
    "TIPO_PRELIEVO.plot(kind='bar', legend = True,\\\n",
    "                   title = title_tipo_prelievo,\\\n",
    "                   figsize=(10,5), rot=0, color='#2879b0', logy = True)"
   ]
  },
  {
   "cell_type": "code",
   "execution_count": 60,
   "metadata": {},
   "outputs": [
    {
     "data": {
      "text/plain": [
       "<matplotlib.axes._subplots.AxesSubplot at 0x1c1d985320>"
      ]
     },
     "execution_count": 60,
     "metadata": {},
     "output_type": "execute_result"
    },
    {
     "data": {
      "image/png": "[encoded data removed]",
      "text/plain": [
       "<Figure size 720x720 with 1 Axes>"
      ]
     },
     "metadata": {},
     "output_type": "display_data"
    }
   ],
   "source": [
    "TIPO_PRELIEVO.plot(kind='pie', figsize=(10,10), legend=True,\\\n",
    "                   title = title_tipo_prelievo,\\\n",
    "                   explode = explode[:len(TIPO_PRELIEVO)],\\\n",
    "                   autopct='%1.2f%%', startangle=-15)"
   ]
  },
  {
   "cell_type": "code",
   "execution_count": 61,
   "metadata": {},
   "outputs": [
    {
     "name": "stdout",
     "output_type": "stream",
     "text": [
      "TER_RAD       4\n",
      "TER_ORM     422\n",
      "OP_GIN     1408\n",
      "Name: DATI_OBIETTIVI, dtype: int64\n"
     ]
    }
   ],
   "source": [
    "'TER_RAD', 'TER_ORM', 'OP_GIN'\n",
    "N_TER_RAD = len(df[df['TER_RAD'] == True])\n",
    "N_TER_ORM = len(df[df['TER_ORM'] == True])\n",
    "N_OP_GIN = len(df[df['OP_GIN'] == True])\n",
    "\n",
    "DATI_OBIETTIVI = pd.Series({'TER_RAD':N_TER_RAD,'TER_ORM':N_TER_ORM,'OP_GIN':N_OP_GIN})\n",
    "DATI_OBIETTIVI.rename('DATI_OBIETTIVI', inplace=True)\n",
    "print(DATI_OBIETTIVI)"
   ]
  },
  {
   "cell_type": "code",
   "execution_count": 62,
   "metadata": {},
   "outputs": [
    {
     "data": {
      "text/plain": [
       "<matplotlib.axes._subplots.AxesSubplot at 0x1c1d9c9b38>"
      ]
     },
     "execution_count": 62,
     "metadata": {},
     "output_type": "execute_result"
    },
    {
     "data": {
      "image/png": "[encoded data removed]",
      "text/plain": [
       "<Figure size 720x360 with 1 Axes>"
      ]
     },
     "metadata": {},
     "output_type": "display_data"
    }
   ],
   "source": [
    "title_dati_obiettivi = 'Incidenza dati obiettivi'\n",
    "DATI_OBIETTIVI.plot(kind='bar',legend = True,\\\n",
    "                    title = title_dati_obiettivi,\\\n",
    "                    figsize=(10,5), rot=0, color='#2879b0', logy = True)"
   ]
  },
  {
   "cell_type": "code",
   "execution_count": 63,
   "metadata": {},
   "outputs": [
    {
     "data": {
      "text/plain": [
       "<matplotlib.axes._subplots.AxesSubplot at 0x1c1dca3588>"
      ]
     },
     "execution_count": 63,
     "metadata": {},
     "output_type": "execute_result"
    },
    {
     "data": {
      "image/png": "[encoded data removed]",
      "text/plain": [
       "<Figure size 720x720 with 1 Axes>"
      ]
     },
     "metadata": {},
     "output_type": "display_data"
    }
   ],
   "source": [
    "DATI_OBIETTIVI.plot(kind='pie', figsize=(10,10), legend=True,\\\n",
    "                explode = explode[:len(DATI_OBIETTIVI)],\\\n",
    "                autopct='%1.2f%%', startangle=0)"
   ]
  },
  {
   "cell_type": "code",
   "execution_count": 64,
   "metadata": {},
   "outputs": [
    {
     "name": "stdout",
     "output_type": "stream",
     "text": [
      "TEST_ESTR      4\n",
      "TER_ANTIF    416\n",
      "Name: TEST_CONSIGLIATI, dtype: int64\n"
     ]
    }
   ],
   "source": [
    "N_TEST_ESTR = len(df[df['TEST_ESTR'] == True])\n",
    "N_TER_ANTIF = len(df[df['TER_ANTIF'] == True])\n",
    "\n",
    "TEST_CONSIGLIATI = pd.Series({'TEST_ESTR':N_TEST_ESTR,'TER_ANTIF':N_TER_ANTIF})\n",
    "TEST_CONSIGLIATI.rename('TEST_CONSIGLIATI', inplace=True)\n",
    "print(TEST_CONSIGLIATI)"
   ]
  },
  {
   "cell_type": "code",
   "execution_count": 65,
   "metadata": {},
   "outputs": [
    {
     "data": {
      "text/plain": [
       "<matplotlib.axes._subplots.AxesSubplot at 0x1c1cd44550>"
      ]
     },
     "execution_count": 65,
     "metadata": {},
     "output_type": "execute_result"
    },
    {
     "data": {
      "image/png": "[encoded data removed]",
      "text/plain": [
       "<Figure size 720x360 with 1 Axes>"
      ]
     },
     "metadata": {},
     "output_type": "display_data"
    }
   ],
   "source": [
    "title_test_consigliati = 'Incidenza dei test consigliati'\n",
    "TEST_CONSIGLIATI.plot(kind='bar', legend = True,\\\n",
    "                      title = title_test_consigliati,\\\n",
    "                      figsize=(10,5), rot=0, color='#2879b0', logy = True)"
   ]
  },
  {
   "cell_type": "code",
   "execution_count": 66,
   "metadata": {},
   "outputs": [
    {
     "data": {
      "text/plain": [
       "<matplotlib.axes._subplots.AxesSubplot at 0x1c1dfa2ba8>"
      ]
     },
     "execution_count": 66,
     "metadata": {},
     "output_type": "execute_result"
    },
    {
     "data": {
      "image/png": "[encoded data removed]",
      "text/plain": [
       "<Figure size 720x720 with 1 Axes>"
      ]
     },
     "metadata": {},
     "output_type": "display_data"
    }
   ],
   "source": [
    "TEST_CONSIGLIATI.plot(kind='pie', figsize=(10,10), legend=True,\\\n",
    "                      title = title_test_consigliati,\\\n",
    "                      explode = explode[:len(TEST_CONSIGLIATI)],\\\n",
    "                      autopct='%1.2f%%', startangle=45)"
   ]
  },
  {
   "cell_type": "code",
   "execution_count": 67,
   "metadata": {},
   "outputs": [
    {
     "data": {
      "text/plain": [
       "count    5075.000000\n",
       "mean        1.044335\n",
       "std         6.953461\n",
       "min         0.000000\n",
       "25%         0.000000\n",
       "50%         0.000000\n",
       "75%         1.000000\n",
       "max       277.000000\n",
       "Name: DELTA, dtype: float64"
      ]
     },
     "execution_count": 67,
     "metadata": {},
     "output_type": "execute_result"
    }
   ],
   "source": [
    "DELTA_PREL_MESTR = pd.DataFrame({'ID': [i for i in range(8804)], 'DELTA': df['DATA_PRELIEVO'] - df['DATA_ULTIMA_MESTRUAZIONE']})\n",
    "DELTA_PREL_MESTR.dropna(inplace=True)\n",
    "DELTA_PREL_MESTR['DELTA'] = DELTA_PREL_MESTR['DELTA'].astype('timedelta64[M]')\n",
    "DELTA_PREL_MESTR['DELTA'].describe()"
   ]
  },
  {
   "cell_type": "code",
   "execution_count": 68,
   "metadata": {},
   "outputs": [
    {
     "data": {
      "text/plain": [
       "DELTA\n",
       "0      3313\n",
       "1      1320\n",
       "2       191\n",
       "3        57\n",
       "4        39\n",
       "5        27\n",
       "6        16\n",
       "7         7\n",
       "8         7\n",
       "9        11\n",
       "10       11\n",
       "11       10\n",
       "12        1\n",
       "13        8\n",
       "14        5\n",
       "15        5\n",
       "16        2\n",
       "17        4\n",
       "18        3\n",
       "19        1\n",
       "20        1\n",
       "22        5\n",
       "23        1\n",
       "24        2\n",
       "25        1\n",
       "27        3\n",
       "28        1\n",
       "32        1\n",
       "33        2\n",
       "34        4\n",
       "44        1\n",
       "45        1\n",
       "50        1\n",
       "61        1\n",
       "65        1\n",
       "68        1\n",
       "73        1\n",
       "82        1\n",
       "91        1\n",
       "96        1\n",
       "97        1\n",
       "119       2\n",
       "120       1\n",
       "206       1\n",
       "277       1\n",
       "Name: DELTA (PRELIEVO - ULTIMA MESTR.), dtype: int64"
      ]
     },
     "execution_count": 68,
     "metadata": {},
     "output_type": "execute_result"
    }
   ],
   "source": [
    "DELTA_PREL_MESTR = DELTA_PREL_MESTR.groupby('DELTA')['ID'].count()\n",
    "DELTA_PREL_MESTR.rename('DELTA (PRELIEVO - ULTIMA MESTR.)', inplace=True)\n",
    "DELTA_PREL_MESTR.index = DELTA_PREL_MESTR.index.astype('int64')\n",
    "DELTA_PREL_MESTR"
   ]
  },
  {
   "cell_type": "code",
   "execution_count": 69,
   "metadata": {},
   "outputs": [
    {
     "data": {
      "text/plain": [
       "<matplotlib.axes._subplots.AxesSubplot at 0x1c1dff4390>"
      ]
     },
     "execution_count": 69,
     "metadata": {},
     "output_type": "execute_result"
    },
    {
     "data": {
      "image/png": "[encoded data removed]",
      "text/plain": [
       "<Figure size 1440x360 with 1 Axes>"
      ]
     },
     "metadata": {},
     "output_type": "display_data"
    }
   ],
   "source": [
    "title_delta_prel_mestr = 'Incidenza degli intervalli di tempo che intercorrono dall\\'ultima mestruazione alla data del prelievo (in mesi)'\n",
    "DELTA_PREL_MESTR.plot(kind='bar', figsize=(20,5),\\\n",
    "                      title = title_delta_prel_mestr,\\\n",
    "                      legend = True, rot=45, color='#2879b0', logy = True)"
   ]
  },
  {
   "cell_type": "code",
   "execution_count": 70,
   "metadata": {},
   "outputs": [
    {
     "data": {
      "text/plain": [
       "Index(['ETA_PRELIEVO', 'DATA_PRELIEVO', 'DATA_ULTIMA_MESTRUAZIONE',\n",
       "       'DATA_PAP_PRECEDENTE', 'FORNICE', 'PORTIO', 'CAN_CERV', 'CAV_UT',\n",
       "       'PERDITE_ER', 'LEUCORREA', 'PRURITO', 'TER_RAD', 'TER_ORM',\n",
       "       'GRAVIDANZE', 'ABORTI', 'TEST_ESTR', 'TER_ANTIF', 'OP_GIN', 'MENOPAUSA',\n",
       "       'AMENORREA', 'POST_PARTUM', 'PRIMO_PAP', 'CITO_PREC', 'VIRALE_PREC',\n",
       "       'BATT_PREC', 'CONTROLLO', 'CTRL_ISTOLOGICO', 'VALIDITA_CAMPIONE',\n",
       "       'CAUSA_CAMPIONE_NON_VALIDO', 'BATT', 'CITO', 'VIRALE'],\n",
       "      dtype='object')"
      ]
     },
     "execution_count": 70,
     "metadata": {},
     "output_type": "execute_result"
    }
   ],
   "source": [
    "df.columns"
   ]
  },
  {
   "cell_type": "code",
   "execution_count": 71,
   "metadata": {},
   "outputs": [
    {
     "data": {
      "text/html": [
       "<div>\n",
       "<style scoped>\n",
       "    .dataframe tbody tr th:only-of-type {\n",
       "        vertical-align: middle;\n",
       "    }\n",
       "\n",
       "    .dataframe tbody tr th {\n",
       "        vertical-align: top;\n",
       "    }\n",
       "\n",
       "    .dataframe thead th {\n",
       "        text-align: right;\n",
       "    }\n",
       "</style>\n",
       "<table border=\"1\" class=\"dataframe\">\n",
       "  <thead>\n",
       "    <tr style=\"text-align: right;\">\n",
       "      <th></th>\n",
       "      <th>DATA_PRELIEVO</th>\n",
       "      <th>CITO</th>\n",
       "    </tr>\n",
       "  </thead>\n",
       "  <tbody>\n",
       "    <tr>\n",
       "      <th>0</th>\n",
       "      <td>2018</td>\n",
       "      <td>AGC-NOS</td>\n",
       "    </tr>\n",
       "    <tr>\n",
       "      <th>1</th>\n",
       "      <td>2015</td>\n",
       "      <td>NEGATIVO</td>\n",
       "    </tr>\n",
       "    <tr>\n",
       "      <th>2</th>\n",
       "      <td>2015</td>\n",
       "      <td>ASCUS</td>\n",
       "    </tr>\n",
       "    <tr>\n",
       "      <th>3</th>\n",
       "      <td>2016</td>\n",
       "      <td>AGC-NOS</td>\n",
       "    </tr>\n",
       "    <tr>\n",
       "      <th>4</th>\n",
       "      <td>2016</td>\n",
       "      <td>NEGATIVO</td>\n",
       "    </tr>\n",
       "  </tbody>\n",
       "</table>\n",
       "</div>"
      ],
      "text/plain": [
       "  DATA_PRELIEVO      CITO\n",
       "0          2018   AGC-NOS\n",
       "1          2015  NEGATIVO\n",
       "2          2015     ASCUS\n",
       "3          2016   AGC-NOS\n",
       "4          2016  NEGATIVO"
      ]
     },
     "execution_count": 71,
     "metadata": {},
     "output_type": "execute_result"
    }
   ],
   "source": [
    "CROSS_DATA_PRELIEVO_CITO = pd.DataFrame(df[['DATA_PRELIEVO', 'CITO']])\n",
    "CROSS_DATA_PRELIEVO_CITO['DATA_PRELIEVO'] = CROSS_DATA_PRELIEVO_CITO['DATA_PRELIEVO'].apply(lambda x: x.year if isinstance(x, pd.Timestamp) else np.NaN)\n",
    "CROSS_DATA_PRELIEVO_CITO['DATA_PRELIEVO'] = CROSS_DATA_PRELIEVO_CITO[CROSS_DATA_PRELIEVO_CITO['DATA_PRELIEVO'] > 2012]\n",
    "CROSS_DATA_PRELIEVO_CITO.head()"
   ]
  },
  {
   "cell_type": "code",
   "execution_count": 72,
   "metadata": {},
   "outputs": [
    {
     "data": {
      "text/plain": [
       "2013  ASCUS               13\n",
       "      LSIL                11\n",
       "      NEGATIVO          1393\n",
       "2014  AIS                  1\n",
       "      ASC-H                1\n",
       "      ASCUS               24\n",
       "      HSIL                 2\n",
       "      LSIL                22\n",
       "      NEGATIVO          1906\n",
       "2015  ASCUS               16\n",
       "      HSIL                 5\n",
       "      LSIL                27\n",
       "      NEGATIVO          1737\n",
       "      SCC                  1\n",
       "2016  AGC-NEOPLASTIC       1\n",
       "      AGC-NOS              5\n",
       "      ASC-H                1\n",
       "      ASCUS               43\n",
       "      HSIL                 6\n",
       "      LSIL                25\n",
       "      NEGATIVO          1601\n",
       "2017  AGC-NEOPLASTIC       1\n",
       "      ASCUS               26\n",
       "      HSIL                 1\n",
       "      LSIL                13\n",
       "      NEGATIVO          1351\n",
       "2018  AGC-NOS              1\n",
       "      ASCUS                7\n",
       "      HSIL                 3\n",
       "      LSIL                 7\n",
       "      NEGATIVO           442\n",
       "Name: CITO, dtype: int64"
      ]
     },
     "execution_count": 72,
     "metadata": {},
     "output_type": "execute_result"
    }
   ],
   "source": [
    "CROSS_DATA_PRELIEVO_CITO = CROSS_DATA_PRELIEVO_CITO.groupby(['DATA_PRELIEVO', 'CITO'])['CITO'].count()\n",
    "CROSS_DATA_PRELIEVO_CITO.rename('CITOLOGICI PER ANNO')\n",
    "CROSS_DATA_PRELIEVO_CITO.index = pd.MultiIndex.from_tuples([(int(ix[0]), ix[1]) for ix in CROSS_DATA_PRELIEVO_CITO.index.tolist()])\n",
    "CROSS_DATA_PRELIEVO_CITO"
   ]
  },
  {
   "cell_type": "code",
   "execution_count": 73,
   "metadata": {},
   "outputs": [
    {
     "data": {
      "text/plain": [
       "<matplotlib.axes._subplots.AxesSubplot at 0x1c1e36ae80>"
      ]
     },
     "execution_count": 73,
     "metadata": {},
     "output_type": "execute_result"
    },
    {
     "data": {
      "image/png": "[encoded data removed]",
      "text/plain": [
       "<Figure size 1440x360 with 1 Axes>"
      ]
     },
     "metadata": {},
     "output_type": "display_data"
    }
   ],
   "source": [
    "title_croos_data_prelievo_cito = 'Esiti citologici per anno'\n",
    "\n",
    "CATEGORICAL_COLORS = [(1.000,0.750,0.500),\n",
    "                      (1.000,1.000,0.200),\n",
    "                      (0.700,1.000,0.550),\n",
    "                      (0.800,0.750,1.000),\n",
    "                      (0.400,0.300,1.000),\n",
    "                      (0.200,1.000,0.000),\n",
    "                      (0.650,0.930,1.000),\n",
    "                      (1.000,0.500,0.000),\n",
    "                      (1.000,1.000,0.600),\n",
    "                      (0.100,0.700,1.000),\n",
    "                      (1.000,0.600,0.750),\n",
    "                      (0.900,0.100,0.200)]\n",
    "\n",
    "colors = {ix: '' for ix in CROSS_DATA_PRELIEVO_CITO.index.tolist()}\n",
    "i = 0\n",
    "for ix in CROSS_DATA_PRELIEVO_CITO.index.tolist():\n",
    "    c = None\n",
    "    for key in colors.keys():\n",
    "        if key[1] == ix[1] and colors[key] != '':\n",
    "            c = colors[key]\n",
    "            break\n",
    "    if c == None:\n",
    "        colors[ix] = CATEGORICAL_COLORS[i]\n",
    "        i += 1\n",
    "    else:\n",
    "        colors[ix] = c\n",
    "        \n",
    "CROSS_DATA_PRELIEVO_CITO.plot(kind='bar', legend = False,\\\n",
    "                              title = title_croos_data_prelievo_cito,\\\n",
    "                              color = colors.values(),\\\n",
    "                              figsize=(20,5), rot=90, logy = True)"
   ]
  },
  {
   "cell_type": "code",
   "execution_count": null,
   "metadata": {},
   "outputs": [],
   "source": []
  }
 ],
 "metadata": {
  "kernelspec": {
   "display_name": "Python 3",
   "language": "python",
   "name": "python3"
  },
  "language_info": {
   "codemirror_mode": {
    "name": "ipython",
    "version": 3
   },
   "file_extension": ".py",
   "mimetype": "text/x-python",
   "name": "python",
   "nbconvert_exporter": "python",
   "pygments_lexer": "ipython3",
   "version": "3.6.5"
  }
 },
 "nbformat": 4,
 "nbformat_minor": 2
}
