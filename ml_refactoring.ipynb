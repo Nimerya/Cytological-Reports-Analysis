{
 "cells": [
  {
   "cell_type": "code",
   "execution_count": 21,
   "metadata": {},
   "outputs": [],
   "source": [
    "import numpy as np\n",
    "import pandas as pd\n",
    "\n",
    "%matplotlib inline"
   ]
  },
  {
   "cell_type": "code",
   "execution_count": 22,
   "metadata": {},
   "outputs": [],
   "source": [
    "df=pd.read_csv(\"data/reports_anonymous_clean.csv\", sep=\";\", encoding = 'utf8')\n",
    "\n",
    "# drop cols 'Unnamed 0'\n",
    "df.drop(['Unnamed: 0'], axis=1, inplace=True)"
   ]
  },
  {
   "cell_type": "code",
   "execution_count": 23,
   "metadata": {},
   "outputs": [
    {
     "data": {
      "text/plain": [
       "Index(['ETA_PRELIEVO', 'DATA_PRELIEVO', 'DATA_ULTIMA_MESTRUAZIONE',\n",
       "       'DATA_PAP_PRECEDENTE', 'FORNICE', 'PORTIO', 'CAN_CERV', 'CAV_UT',\n",
       "       'PERDITE_ER', 'LEUCORREA', 'PRURITO', 'TER_RAD', 'TER_ORM',\n",
       "       'GRAVIDANZE', 'ABORTI', 'TEST_ESTR', 'TER_ANTIF', 'OP_GIN', 'MENOPAUSA',\n",
       "       'AMENORREA', 'POST_PARTUM', 'PRIMO_PAP', 'CITO_PREC', 'VIRALE_PREC',\n",
       "       'BATT_PREC', 'CONTROLLO', 'CTRL_ISTOLOGICO', 'VALIDITA_CAMPIONE',\n",
       "       'CAUSA_CAMPIONE_NON_VALIDO', 'BATT', 'CITO', 'VIRALE'],\n",
       "      dtype='object')"
      ]
     },
     "execution_count": 23,
     "metadata": {},
     "output_type": "execute_result"
    }
   ],
   "source": [
    "df.columns"
   ]
  },
  {
   "cell_type": "code",
   "execution_count": 31,
   "metadata": {},
   "outputs": [
    {
     "data": {
      "text/plain": [
       "1000"
      ]
     },
     "execution_count": 31,
     "metadata": {},
     "output_type": "execute_result"
    }
   ],
   "source": [
    "columns = ['ETA_PRELIEVO','GRAVIDANZE','ABORTI','CITO_PREC','CITO']\n",
    "\n",
    "df_cl = df[columns].copy()\n",
    "\n",
    "df_cl['CITO'] = df_cl['CITO'].apply(lambda x: 'NEGATIVO' if x == 'NEGATIVO' else 'POSITIVO')\n",
    "df_cl['CITO_PREC'] = df_cl['CITO_PREC'].apply(lambda x: 'NEGATIVO' if x == 'NEGATIVO' else 'POSITIVO')\n",
    "df_cl['GRAVIDANZE'] = df_cl['GRAVIDANZE'].apply(lambda x: 'False' if x == 0 else 'True')\n",
    "df_cl['ABORTI'] = df_cl['ABORTI'].apply(lambda x: 'False' if x == 0 else 'True')\n",
    " \n",
    "df_cl['ETA_PRELIEVO'] = pd.cut(df_cl['ETA_PRELIEVO'], [10,35,55,75,90],\\\n",
    "                               labels=['10-35','35-55','55-75','75-90'])\n",
    "\n",
    "count = 8804    \n",
    "for i, row in df_temp.iterrows():\n",
    "    if row['CITO'] == 'NEGATIVO':\n",
    "        if count > 1000:\n",
    "            df_cl.loc[i, 'CITO'] = np.NaN\n",
    "            count -= 1\n",
    "\n",
    "\n",
    "df_cl.dropna(inplace=True)\n",
    "df_cl = df_cl.applymap(str)\n",
    "\n",
    "len(df_cl)"
   ]
  },
  {
   "cell_type": "code",
   "execution_count": 32,
   "metadata": {},
   "outputs": [],
   "source": [
    "df_cl.to_csv('data/reports_anonymous_ml.csv', sep=';', index=False)"
   ]
  },
  {
   "cell_type": "code",
   "execution_count": null,
   "metadata": {},
   "outputs": [],
   "source": []
  }
 ],
 "metadata": {
  "kernelspec": {
   "display_name": "Python 3",
   "language": "python",
   "name": "python3"
  },
  "language_info": {
   "codemirror_mode": {
    "name": "ipython",
    "version": 3
   },
   "file_extension": ".py",
   "mimetype": "text/x-python",
   "name": "python",
   "nbconvert_exporter": "python",
   "pygments_lexer": "ipython3",
   "version": "3.6.5"
  }
 },
 "nbformat": 4,
 "nbformat_minor": 2
}
