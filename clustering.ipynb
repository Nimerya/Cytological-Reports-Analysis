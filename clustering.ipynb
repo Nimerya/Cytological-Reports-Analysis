{
 "cells": [
  {
   "cell_type": "code",
   "execution_count": 2,
   "metadata": {},
   "outputs": [],
   "source": [
    "import numpy as np\n",
    "from kmodes.kmodes import KModes\n",
    "import pandas as pd\n",
    "import matplotlib.pyplot as plt\n",
    "import warnings\n",
    "import random\n",
    "\n",
    "random.seed(5)\n",
    "\n",
    "%matplotlib inline"
   ]
  },
  {
   "cell_type": "code",
   "execution_count": 3,
   "metadata": {},
   "outputs": [],
   "source": [
    "df=pd.read_csv(\"data/report_anonymous_clean.csv\", sep=\";\", encoding = 'utf8')\n",
    "\n",
    "# drop cols 'Unnamed 0'\n",
    "df.drop(['Unnamed: 0'], axis=1, inplace=True)\n"
   ]
  },
  {
   "cell_type": "code",
   "execution_count": 4,
   "metadata": {},
   "outputs": [
    {
     "data": {
      "text/plain": [
       "Index(['ETA_PRELIEVO', 'DATA_PRELIEVO', 'DATA_ULTIMA_MESTRUAZIONE',\n",
       "       'DATA_PAP_PRECEDENTE', 'FORNICE', 'PORTIO', 'CAN_CERV', 'CAV_UT',\n",
       "       'PERDITE_ER', 'LEUCORREA', 'PRURITO', 'TER_RAD', 'TER_ORM',\n",
       "       'GRAVIDANZE', 'ABORTI', 'TEST_ESTR', 'TER_ANTIF', 'OP_GIN', 'MENOPAUSA',\n",
       "       'AMENORREA', 'POST_PARTUM', 'PRIMO_PAP', 'CITO_PREC', 'VIRALE_PREC',\n",
       "       'BATT_PREC', 'CONTROLLO', 'CTRL_ISTOLOGICO', 'VALIDITA_CAMPIONE',\n",
       "       'CAUSA_CAMPIONE_NON_VALIDO', 'BATT', 'CITO', 'VIRALE'],\n",
       "      dtype='object')"
      ]
     },
     "execution_count": 4,
     "metadata": {},
     "output_type": "execute_result"
    }
   ],
   "source": [
    "df.columns"
   ]
  },
  {
   "cell_type": "code",
   "execution_count": 56,
   "metadata": {},
   "outputs": [
    {
     "name": "stdout",
     "output_type": "stream",
     "text": [
      "2006\n"
     ]
    }
   ],
   "source": [
    "data = df[['ETA_PRELIEVO', 'CITO', 'CITO_PREC', 'MENOPAUSA',]].copy()\n",
    "\n",
    "data['ETA_PRELIEVO'] = pd.cut(data['ETA_PRELIEVO'], [10,25,35,45,55,65,75,90],\\\n",
    "                              labels=['10-25','25-35','35-45','45-55','55-65','65-75','75-90'])\n",
    "\n",
    "data.dropna(inplace=True)\n",
    "data = data.applymap(str)\n",
    "\n",
    "data['CITO'].replace({'ASCUS':'C_POSITIVO', 'LSIL':'C_POSITIVO', \n",
    "                      'HSIL':'C_POSITIVO', 'AGC-NOS':'C_POSITIVO',\n",
    "                      'AIS':'C_POSITIVO', 'ASC-H':'C_POSITIVO',\n",
    "                      'SCC':'C_POSITIVO', 'AGC-NEOPLASTIC':'C_POSITIVO',\n",
    "                      'NEGATIVO':'C_NEGATIVO'}, inplace=True)\n",
    "\n",
    "data['CITO_PREC'].replace({'ASCUS':'CP_POSITIVO', 'LSIL':'CP_POSITIVO', \n",
    "                           'HSIL':'CP_POSITIVO', 'AGC-NOS':'CP_POSITIVO',\n",
    "                           'AIS':'CP_POSITIVO', 'ASC-H':'CP_POSITIVO',\n",
    "                           'SCC':'CP_POSITIVO', 'AGC-NEOPLASTIC':'CP_POSITIVO',\n",
    "                           'NEGATIVO':'CP_NEGATIVO'}, inplace=True)\n",
    "\n",
    "data['MENOPAUSA'].replace({'True':'M_TRUE', 'False':'M_FALSE'}, inplace=True)\n",
    "\n",
    "\n",
    "\n",
    "\n",
    "print(len(data))"
   ]
  },
  {
   "cell_type": "code",
   "execution_count": 59,
   "metadata": {},
   "outputs": [],
   "source": [
    "def kmode_cluster(size):\n",
    "    km = KModes(n_clusters=size, init='Cao', n_init=10, verbose=0)\n",
    "    clusters = km.fit_predict(data)\n",
    "    return km\n",
    "\n",
    "def compute_error(km):\n",
    "    error = {i: 0 for i in data['CLUSTER'].unique()}\n",
    "    for index, row in data.iterrows():\n",
    "        for i, item in enumerate(row[:-1]):\n",
    "            if item != km.cluster_centroids_[row['CLUSTER']][i]:\n",
    "                error[row['CLUSTER']] += 1\n",
    "    \n",
    "    cum_err = 0\n",
    "    for i in error:\n",
    "        cum_err += error[i]\n",
    "        \n",
    "    return error, cum_err"
   ]
  },
  {
   "cell_type": "code",
   "execution_count": 90,
   "metadata": {},
   "outputs": [
    {
     "name": "stdout",
     "output_type": "stream",
     "text": [
      "clustering with 2 centroids...\n",
      "[['45-55' 'C_NEGATIVO' 'CP_NEGATIVO' 'M_FALSE' '0']\n",
      " ['55-65' 'C_NEGATIVO' 'CP_NEGATIVO' 'M_TRUE' '1']]\n",
      "error per centroid:  {1: 98, 0: 1402}\n",
      "cumulative error:  1500\n",
      "\n",
      "clustering with 3 centroids...\n",
      "[['45-55' 'C_NEGATIVO' 'CP_NEGATIVO' 'M_FALSE' '0']\n",
      " ['55-65' 'C_NEGATIVO' 'CP_NEGATIVO' 'M_TRUE' '1']\n",
      " ['35-45' 'C_POSITIVO' 'CP_POSITIVO' 'M_FALSE' '0']]\n",
      "error per centroid:  {1: 98, 0: 1284, 2: 48}\n",
      "cumulative error:  1430\n",
      "\n",
      "clustering with 4 centroids...\n",
      "[['45-55' 'C_NEGATIVO' 'CP_NEGATIVO' 'M_FALSE' '0']\n",
      " ['55-65' 'C_NEGATIVO' 'CP_NEGATIVO' 'M_TRUE' '1']\n",
      " ['35-45' 'C_POSITIVO' 'CP_POSITIVO' 'M_FALSE' '2']\n",
      " ['25-35' 'C_NEGATIVO' 'CP_POSITIVO' 'M_FALSE' '0']]\n",
      "error per centroid:  {1: 98, 0: 1184, 3: 21, 2: 48}\n",
      "cumulative error:  1351\n",
      "\n",
      "clustering with 5 centroids...\n",
      "[['45-55' 'C_NEGATIVO' 'CP_NEGATIVO' 'M_FALSE' '0']\n",
      " ['55-65' 'C_NEGATIVO' 'CP_NEGATIVO' 'M_TRUE' '1']\n",
      " ['35-45' 'C_NEGATIVO' 'CP_POSITIVO' 'M_FALSE' '2']\n",
      " ['25-35' 'C_POSITIVO' 'CP_NEGATIVO' 'M_FALSE' '0']\n",
      " ['45-55' 'C_NEGATIVO' 'CP_POSITIVO' 'M_TRUE' '0']]\n",
      "error per centroid:  {1: 98, 0: 1134, 2: 99, 3: 8, 4: 1}\n",
      "cumulative error:  1340\n",
      "\n"
     ]
    }
   ],
   "source": [
    "size = 5\n",
    "errors = {i: 0 for i in range(2,size+1)}\n",
    "\n",
    "for i in range(2,size+1):\n",
    "    print(\"clustering with {} centroids...\".format(i))\n",
    "    km = kmode_cluster(i)\n",
    "    data['CLUSTER'] = km.labels_\n",
    "    print(km.cluster_centroids_)\n",
    "    err, cum_err = compute_error(km)\n",
    "    print(\"error per centroid: \",err)\n",
    "    print(\"cumulative error: \",cum_err)\n",
    "    errors[i] = cum_err\n",
    "    print()"
   ]
  },
  {
   "cell_type": "code",
   "execution_count": 93,
   "metadata": {},
   "outputs": [
    {
     "data": {
      "text/plain": [
       "<matplotlib.axes._subplots.AxesSubplot at 0x1050b8f60>"
      ]
     },
     "execution_count": 93,
     "metadata": {},
     "output_type": "execute_result"
    },
    {
     "data": {
      "image/png": "[encoded data removed]",
      "text/plain": [
       "<Figure size 720x504 with 1 Axes>"
      ]
     },
     "metadata": {},
     "output_type": "display_data"
    }
   ],
   "source": [
    "errors_df = pd.DataFrame.from_dict(errors, orient='index')\n",
    "errors_df.plot(kind='line', title = 'Errore cumulativo per numero di centroidi', figsize=(10,7), legend=False)"
   ]
  },
  {
   "cell_type": "code",
   "execution_count": 55,
   "metadata": {},
   "outputs": [],
   "source": [
    "#plt.figure(figsize=(15, 15))\n",
    "#\n",
    "#\n",
    "#ax1 = plt.scatter(x=clusters, y=data['ETA_PRELIEVO'], color='b')   \n",
    "#ax2 = plt.scatter(x=clusters, y=data['CITO'], color='r') \n",
    "#ax2 = plt.scatter(x=clusters, y=data['CITO_PREC'], color='c') \n",
    "#ax3 = plt.scatter(x=clusters, y=data['MENOPAUSA'], color='y') "
   ]
  }
 ],
 "metadata": {
  "kernelspec": {
   "display_name": "Python 3",
   "language": "python",
   "name": "python3"
  },
  "language_info": {
   "codemirror_mode": {
    "name": "ipython",
    "version": 3
   },
   "file_extension": ".py",
   "mimetype": "text/x-python",
   "name": "python",
   "nbconvert_exporter": "python",
   "pygments_lexer": "ipython3",
   "version": "3.6.5"
  }
 },
 "nbformat": 4,
 "nbformat_minor": 2
}
